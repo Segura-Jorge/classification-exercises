{
 "cells": [
  {
   "cell_type": "code",
   "execution_count": 46,
   "id": "bd9673ac-eaab-4436-95b8-281dd2766c56",
   "metadata": {
    "tags": []
   },
   "outputs": [],
   "source": [
    "import pandas as pd\n",
    "import numpy as np\n",
    "\n",
    "import seaborn as sns\n",
    "import matplotlib.pyplot as plt\n",
    "import sklearn\n",
    "from sklearn import preprocessing\n",
    "from sklearn.impute import SimpleImputer\n",
    "from sklearn.model_selection import train_test_split\n",
    "from sklearn.metrics import accuracy_score\n",
    "from sklearn.metrics import recall_score\n",
    "from sklearn.metrics import classification_report\n",
    "import scipy as sp\n",
    "from pydataset import data\n",
    "from env import get_db_url, user, password, host\n",
    "from scipy import stats\n",
    "import warnings\n",
    "warnings.filterwarnings(\"ignore\")\n",
    "\n",
    "import acquire as acq\n",
    "import os\n",
    "directory = os.getcwd()"
   ]
  },
  {
   "cell_type": "markdown",
   "id": "42815429-3f41-4b3b-ba1d-f45377ba9547",
   "metadata": {},
   "source": [
    "## Exercises\n",
    "\n",
    "### 1. Create a new file named model_evaluation.py or model_evaluation.ipynb for these exercises.\n",
    "### 2. Given the following confusion matrix, evaluate (by hand) the model's performance.\n",
    "|               | pred dog (+)  | pred not dog (-)  |\n",
    "|:------------  |-----------:|-----------:|\n",
    "| actual dog (+)   |         46 |         7  |\n",
    "| actual not dog (-)   |         13 |         34 |\n",
    "\n",
    "#### - In the context of this problem, what is a false positive?\n",
    "#### - In the context of this problem, what is a false negative?\n",
    "#### - How would you describe this model?"
   ]
  },
  {
   "cell_type": "code",
   "execution_count": 2,
   "id": "2b19297d-b7ac-4d21-8f75-7cc7c5471533",
   "metadata": {
    "tags": []
   },
   "outputs": [
    {
     "data": {
      "text/plain": [
       "0.8"
      ]
     },
     "execution_count": 2,
     "metadata": {},
     "output_type": "execute_result"
    }
   ],
   "source": [
    "Accuracy = (34 + 46) / (34 + 7 + 13 + 46)\n",
    "Accuracy\n",
    "# - In the context of this problem, what is a false positive? Answer-\n",
    "# I will assume we are predicting to find dog.\n",
    "\n",
    "# FP: false positive happens when predicted (+) and actual (-) occurs, which in this case = 13\n",
    "# Type I error "
   ]
  },
  {
   "cell_type": "code",
   "execution_count": 3,
   "id": "1205c784-42db-4ad0-9809-7bc637e3203f",
   "metadata": {
    "tags": []
   },
   "outputs": [],
   "source": [
    "# - In the context of this problem, what is a false negative? Answer-\n",
    "# FN: happens when predicted negative (-) and actul positive (+) occurs, which in this case = 7\n",
    "# Type II error"
   ]
  },
  {
   "cell_type": "code",
   "execution_count": 4,
   "id": "3719e706-0722-4eb7-8d8a-cf8a33e37f4c",
   "metadata": {
    "tags": []
   },
   "outputs": [],
   "source": [
    "# - How would you describe this model? Answer-\n",
    "# TP: We predicted dog, was dog (46)\n",
    "# TN: We predicted not-dog, was not-dog (34)\n",
    "# FP: We predicted dog, was not-dog (13) - Type I Error\n",
    "# FN: We predicted not-dog, was dog (7) - Type II Error\n",
    "TP = 46\n",
    "TN = 34\n",
    "FP = 13\n",
    "FN = 7\n",
    "\n",
    "#with an accuracy of 0.8, i think the model did well."
   ]
  },
  {
   "cell_type": "markdown",
   "id": "b465d2d5-5572-41ef-8d59-707051dae759",
   "metadata": {},
   "source": [
    "#### 3. You are working as a datascientist working for Codeup Cody Creator (C3 for short), a rubber-duck manufacturing plant.\n",
    "#### Unfortunately, some of the rubber ducks that are produced will have defects. Your team has built several models that try to predict those defects, and the data from their predictions can be found here.\n",
    "#### Use the predictions dataset and pandas to help answer the following questions:"
   ]
  },
  {
   "cell_type": "code",
   "execution_count": 5,
   "id": "eb8fd036-2a0c-4688-8e8a-07625f467c47",
   "metadata": {},
   "outputs": [
    {
     "data": {
      "text/html": [
       "<div>\n",
       "<style scoped>\n",
       "    .dataframe tbody tr th:only-of-type {\n",
       "        vertical-align: middle;\n",
       "    }\n",
       "\n",
       "    .dataframe tbody tr th {\n",
       "        vertical-align: top;\n",
       "    }\n",
       "\n",
       "    .dataframe thead th {\n",
       "        text-align: right;\n",
       "    }\n",
       "</style>\n",
       "<table border=\"1\" class=\"dataframe\">\n",
       "  <thead>\n",
       "    <tr style=\"text-align: right;\">\n",
       "      <th></th>\n",
       "      <th>actual</th>\n",
       "      <th>model1</th>\n",
       "      <th>model2</th>\n",
       "      <th>model3</th>\n",
       "    </tr>\n",
       "  </thead>\n",
       "  <tbody>\n",
       "    <tr>\n",
       "      <th>0</th>\n",
       "      <td>No Defect</td>\n",
       "      <td>No Defect</td>\n",
       "      <td>Defect</td>\n",
       "      <td>No Defect</td>\n",
       "    </tr>\n",
       "    <tr>\n",
       "      <th>1</th>\n",
       "      <td>No Defect</td>\n",
       "      <td>No Defect</td>\n",
       "      <td>Defect</td>\n",
       "      <td>Defect</td>\n",
       "    </tr>\n",
       "    <tr>\n",
       "      <th>2</th>\n",
       "      <td>No Defect</td>\n",
       "      <td>No Defect</td>\n",
       "      <td>Defect</td>\n",
       "      <td>No Defect</td>\n",
       "    </tr>\n",
       "    <tr>\n",
       "      <th>3</th>\n",
       "      <td>No Defect</td>\n",
       "      <td>Defect</td>\n",
       "      <td>Defect</td>\n",
       "      <td>Defect</td>\n",
       "    </tr>\n",
       "    <tr>\n",
       "      <th>4</th>\n",
       "      <td>No Defect</td>\n",
       "      <td>No Defect</td>\n",
       "      <td>Defect</td>\n",
       "      <td>No Defect</td>\n",
       "    </tr>\n",
       "  </tbody>\n",
       "</table>\n",
       "</div>"
      ],
      "text/plain": [
       "      actual     model1  model2     model3\n",
       "0  No Defect  No Defect  Defect  No Defect\n",
       "1  No Defect  No Defect  Defect     Defect\n",
       "2  No Defect  No Defect  Defect  No Defect\n",
       "3  No Defect     Defect  Defect     Defect\n",
       "4  No Defect  No Defect  Defect  No Defect"
      ]
     },
     "execution_count": 5,
     "metadata": {},
     "output_type": "execute_result"
    }
   ],
   "source": [
    "ducks = pd.read_csv('c3.csv')\n",
    "ducks.head()"
   ]
  },
  {
   "cell_type": "markdown",
   "id": "515fbec7-bb9a-4004-8e8c-1af31c829336",
   "metadata": {},
   "source": [
    "#### - An internal team wants to investigate the cause of the manufacturing defects. They tell you that they want to identify as many of the ducks that have a defect as possible. Which evaluation metric would be appropriate here? Which model would be the best fit for this use case?"
   ]
  },
  {
   "cell_type": "code",
   "execution_count": 6,
   "id": "264ae4ab-9e6a-430c-ac49-1f1cc7598dc9",
   "metadata": {},
   "outputs": [],
   "source": [
    "# True Positive Results\n",
    "\n",
    "TP_m1 = ducks[(ducks.actual == 'Defect') & (ducks.model1 == 'Defect')]\n",
    "TP_m1 = TP_m1[['actual', 'model1']]\n",
    "TP_m1 = TP_m1.shape[0]\n",
    "\n",
    "TP_m2 = ducks[(ducks.actual == 'Defect') & (ducks.model2 == 'Defect')]\n",
    "TP_m2 = TP_m2[['actual', 'model2']]\n",
    "TP_m2 = TP_m2.shape[0]\n",
    "\n",
    "TP_m3 = ducks[(ducks.actual == 'Defect') & (ducks.model3 == 'Defect')]\n",
    "TP_m3 = TP_m3[['actual', 'model3']]\n",
    "TP_m3 = TP_m3.shape[0]"
   ]
  },
  {
   "cell_type": "code",
   "execution_count": 7,
   "id": "a1483377-4540-4a63-a61a-6802d1ed4518",
   "metadata": {
    "tags": []
   },
   "outputs": [],
   "source": [
    "# True Negatives\n",
    "\n",
    "TN_m1 = ducks[(ducks.actual == 'No Defect') & (ducks.model1 == 'No Defect')]\n",
    "TN_m1 = TN_m1[['actual', 'model1']]\n",
    "TN_m1 = TN_m1.shape[0]\n",
    "\n",
    "TN_m2 = ducks[(ducks.actual == 'No Defect') & (ducks.model2 == 'No Defect')]\n",
    "TN_m2 = TN_m2[['actual', 'model2']]\n",
    "TN_m2 = TN_m2.shape[0]\n",
    "\n",
    "TN_m3 = ducks[(ducks.actual == 'No Defect') & (ducks.model3 == 'No Defect')]\n",
    "TN_m3 = TN_m3[['actual', 'model3']]\n",
    "TN_m3 = TN_m3.shape[0]"
   ]
  },
  {
   "cell_type": "code",
   "execution_count": 8,
   "id": "ab81d9eb-764f-4dc2-9cf0-667460642d01",
   "metadata": {
    "tags": []
   },
   "outputs": [],
   "source": [
    "# False Positives\n",
    "\n",
    "FP_m1 = ducks[(ducks.actual == 'No Defect') & (ducks.model1 == 'Defect')]\n",
    "FP_m1 = FP_m1[['actual', 'model1']]\n",
    "FP_m1 = FP_m1.shape[0]\n",
    "\n",
    "FP_m2 = ducks[(ducks.actual == 'No Defect') & (ducks.model2 == 'Defect')]\n",
    "FP_m2 = FP_m2[['actual', 'model2']]\n",
    "FP_m2 = FP_m2.shape[0]\n",
    "\n",
    "FP_m3 = ducks[(ducks.actual == 'No Defect') & (ducks.model3 == 'Defect')]\n",
    "FP_m3 = FP_m3[['actual', 'model3']]\n",
    "FP_m3 = FP_m3.shape[0]"
   ]
  },
  {
   "cell_type": "code",
   "execution_count": 9,
   "id": "11f2a54b-a763-4621-8a06-f093272a216c",
   "metadata": {
    "tags": []
   },
   "outputs": [],
   "source": [
    "# False Negative\n",
    "\n",
    "FN_m1 = ducks[(ducks.actual == 'Defect') & (ducks.model1 == 'No Defect')]\n",
    "FN_m1 = FN_m1[['actual', 'model1']]\n",
    "FN_m1 = FN_m1.shape[0]\n",
    "\n",
    "FN_m2 = ducks[(ducks.actual == 'Defect') & (ducks.model2 == 'No Defect')]\n",
    "FN_m2 = FN_m2[['actual', 'model2']]\n",
    "FN_m2 = FN_m2.shape[0]\n",
    "\n",
    "FN_m3 = ducks[(ducks.actual == 'Defect') & (ducks.model3 == 'No Defect')]\n",
    "FN_m3 = FN_m3[['actual', 'model3']]\n",
    "FN_m3 = FN_m3.shape[0]"
   ]
  },
  {
   "cell_type": "code",
   "execution_count": 10,
   "id": "02479ed2-bb86-4046-9ce4-6ebad0438b95",
   "metadata": {},
   "outputs": [],
   "source": [
    "ducks['baseline'] = 'No Defect'"
   ]
  },
  {
   "cell_type": "code",
   "execution_count": 11,
   "id": "39645b14-84af-4241-bcef-407070ad6354",
   "metadata": {
    "tags": []
   },
   "outputs": [
    {
     "data": {
      "text/plain": [
       "(0.5, 0.5625, 0.8125)"
      ]
     },
     "execution_count": 11,
     "metadata": {},
     "output_type": "execute_result"
    }
   ],
   "source": [
    "m1_recall = TP_m1 / (TP_m1 + FN_m1)\n",
    "m2_recall = TP_m2 / (TP_m2 + FN_m2)\n",
    "m3_recall = TP_m3 / (TP_m3 + FN_m3)\n",
    "\n",
    "m1_recall, m2_recall, m3_recall"
   ]
  },
  {
   "cell_type": "code",
   "execution_count": 12,
   "id": "b2273000-107a-4625-bae4-294a4da7ac67",
   "metadata": {
    "tags": []
   },
   "outputs": [
    {
     "name": "stdout",
     "output_type": "stream",
     "text": [
      "Model 1\n",
      "Model Recall: 50.00%\n",
      "Baseline recall: 0.00%\n"
     ]
    }
   ],
   "source": [
    "positive = 'Defect'\n",
    "\n",
    "subset = ducks[ducks.actual == positive]\n",
    "model_recall = (subset.actual == subset.model1).mean()\n",
    "bl_recall = (subset.baseline == subset.actual).mean()\n",
    "\n",
    "print('Model 1')\n",
    "print(f'Model Recall: {model_recall:.2%}')\n",
    "print(f'Baseline recall: {bl_recall:.2%}')"
   ]
  },
  {
   "cell_type": "code",
   "execution_count": 13,
   "id": "7867ccb1-4805-4926-8df2-054499cf9b84",
   "metadata": {
    "tags": []
   },
   "outputs": [
    {
     "name": "stdout",
     "output_type": "stream",
     "text": [
      "Model 2\n",
      "Model Recall: 56.25%\n",
      "Baseline recall: 0.00%\n"
     ]
    }
   ],
   "source": [
    "positive = 'Defect'\n",
    "\n",
    "subset = ducks[ducks.actual == positive]\n",
    "model_recall = (subset.actual == subset.model2).mean()\n",
    "bl_recall = (subset.baseline == subset.actual).mean()\n",
    "\n",
    "print('Model 2')\n",
    "print(f'Model Recall: {model_recall:.2%}')\n",
    "print(f'Baseline recall: {bl_recall:.2%}')"
   ]
  },
  {
   "cell_type": "code",
   "execution_count": 14,
   "id": "a21dd98a-e361-47ba-8f8a-2120c47edd88",
   "metadata": {
    "tags": []
   },
   "outputs": [
    {
     "name": "stdout",
     "output_type": "stream",
     "text": [
      "Model 3\n",
      "Model Recall: 81.25%\n",
      "Baseline recall: 0.00%\n"
     ]
    }
   ],
   "source": [
    "positive = 'Defect'\n",
    "\n",
    "subset = ducks[ducks.actual == positive]\n",
    "model_recall = (subset.actual == subset.model3).mean()\n",
    "bl_recall = (subset.baseline == subset.actual).mean()\n",
    "\n",
    "print('Model 3')\n",
    "print(f'Model Recall: {model_recall:.2%}')\n",
    "print(f'Baseline recall: {bl_recall:.2%}')"
   ]
  },
  {
   "cell_type": "markdown",
   "id": "6221091f-e59e-4836-a7c9-3573398ea7c8",
   "metadata": {},
   "source": [
    "#### - Recently several stories in the local news have come out highlighting customers who received a rubber duck with a defect, and portraying C3 in a bad light. The PR team has decided to launch a program that gives customers with a defective duck a vacation to Hawaii. They need you to predict which ducks will have defects, but tell you the really don't want to accidentally give out a vacation package when the duck really doesn't have a defect. Which evaluation metric would be appropriate here? Which model would be the best fit for this use case?"
   ]
  },
  {
   "cell_type": "code",
   "execution_count": 15,
   "id": "d3dff9ca-10d8-4e2d-9e9a-db7f9c5d470e",
   "metadata": {},
   "outputs": [
    {
     "data": {
      "text/plain": [
       "(0.8, 0.1, 0.13131313131313133)"
      ]
     },
     "execution_count": 15,
     "metadata": {},
     "output_type": "execute_result"
    }
   ],
   "source": [
    "m1_prec = TP_m1 / (TP_m1 + FP_m1)\n",
    "m2_prec = TP_m2 / (TP_m2 + FP_m2)\n",
    "m3_prec = TP_m3 / (TP_m3 + FP_m3)\n",
    "\n",
    "m1_prec, m2_prec, m3_prec"
   ]
  },
  {
   "cell_type": "markdown",
   "id": "1abb0b46-a684-4d20-a50b-8cecfa508a76",
   "metadata": {},
   "source": [
    "#### 4. You are working as a data scientist for Gives You Paws ™, a subscription based service that shows you cute pictures of dogs or cats (or both for an additional fee).\n",
    "#### At Gives You Paws, anyone can upload pictures of their cats or dogs. The photos are then put through a two step process. First an automated algorithm tags pictures as either a cat or a dog (Phase I). Next, the photos that have been initially identified are put through another round of review, possibly with some human oversight, before being presented to the users (Phase II).\n",
    "#### Several models have already been developed with the data, and you can find their results here.\n",
    "#### Given this dataset, use pandas to create a baseline model (i.e. a model that just predicts the most common class) and answer the following questions:\n",
    "#### a. In terms of accuracy, how do the various models compare to the baseline model? Are any of the models better than the baseline?"
   ]
  },
  {
   "cell_type": "code",
   "execution_count": 17,
   "id": "17eed276-53bd-421e-871b-a9b195e31869",
   "metadata": {},
   "outputs": [
    {
     "data": {
      "text/html": [
       "<div>\n",
       "<style scoped>\n",
       "    .dataframe tbody tr th:only-of-type {\n",
       "        vertical-align: middle;\n",
       "    }\n",
       "\n",
       "    .dataframe tbody tr th {\n",
       "        vertical-align: top;\n",
       "    }\n",
       "\n",
       "    .dataframe thead th {\n",
       "        text-align: right;\n",
       "    }\n",
       "</style>\n",
       "<table border=\"1\" class=\"dataframe\">\n",
       "  <thead>\n",
       "    <tr style=\"text-align: right;\">\n",
       "      <th></th>\n",
       "      <th>actual</th>\n",
       "      <th>model1</th>\n",
       "      <th>model2</th>\n",
       "      <th>model3</th>\n",
       "      <th>model4</th>\n",
       "    </tr>\n",
       "  </thead>\n",
       "  <tbody>\n",
       "    <tr>\n",
       "      <th>0</th>\n",
       "      <td>cat</td>\n",
       "      <td>cat</td>\n",
       "      <td>dog</td>\n",
       "      <td>cat</td>\n",
       "      <td>dog</td>\n",
       "    </tr>\n",
       "    <tr>\n",
       "      <th>1</th>\n",
       "      <td>dog</td>\n",
       "      <td>dog</td>\n",
       "      <td>cat</td>\n",
       "      <td>cat</td>\n",
       "      <td>dog</td>\n",
       "    </tr>\n",
       "    <tr>\n",
       "      <th>2</th>\n",
       "      <td>dog</td>\n",
       "      <td>cat</td>\n",
       "      <td>cat</td>\n",
       "      <td>cat</td>\n",
       "      <td>dog</td>\n",
       "    </tr>\n",
       "    <tr>\n",
       "      <th>3</th>\n",
       "      <td>dog</td>\n",
       "      <td>dog</td>\n",
       "      <td>dog</td>\n",
       "      <td>cat</td>\n",
       "      <td>dog</td>\n",
       "    </tr>\n",
       "    <tr>\n",
       "      <th>4</th>\n",
       "      <td>cat</td>\n",
       "      <td>cat</td>\n",
       "      <td>cat</td>\n",
       "      <td>dog</td>\n",
       "      <td>dog</td>\n",
       "    </tr>\n",
       "  </tbody>\n",
       "</table>\n",
       "</div>"
      ],
      "text/plain": [
       "  actual model1 model2 model3 model4\n",
       "0    cat    cat    dog    cat    dog\n",
       "1    dog    dog    cat    cat    dog\n",
       "2    dog    cat    cat    cat    dog\n",
       "3    dog    dog    dog    cat    dog\n",
       "4    cat    cat    cat    dog    dog"
      ]
     },
     "execution_count": 17,
     "metadata": {},
     "output_type": "execute_result"
    }
   ],
   "source": [
    "paws = pd.read_csv('gives_you_paws.csv')\n",
    "paws.head()"
   ]
  },
  {
   "cell_type": "code",
   "execution_count": 18,
   "id": "345d68ff-ee3f-4f48-99ce-c0622c1f0205",
   "metadata": {
    "tags": []
   },
   "outputs": [
    {
     "data": {
      "text/plain": [
       "dog    3254\n",
       "cat    1746\n",
       "Name: actual, dtype: int64"
      ]
     },
     "execution_count": 18,
     "metadata": {},
     "output_type": "execute_result"
    }
   ],
   "source": [
    "paws.actual.value_counts()"
   ]
  },
  {
   "cell_type": "code",
   "execution_count": 19,
   "id": "31a7b8e1-5550-461b-9bf7-fa74a8fce965",
   "metadata": {
    "tags": []
   },
   "outputs": [
    {
     "data": {
      "text/html": [
       "<div>\n",
       "<style scoped>\n",
       "    .dataframe tbody tr th:only-of-type {\n",
       "        vertical-align: middle;\n",
       "    }\n",
       "\n",
       "    .dataframe tbody tr th {\n",
       "        vertical-align: top;\n",
       "    }\n",
       "\n",
       "    .dataframe thead th {\n",
       "        text-align: right;\n",
       "    }\n",
       "</style>\n",
       "<table border=\"1\" class=\"dataframe\">\n",
       "  <thead>\n",
       "    <tr style=\"text-align: right;\">\n",
       "      <th></th>\n",
       "      <th>actual</th>\n",
       "      <th>model1</th>\n",
       "      <th>model2</th>\n",
       "      <th>model3</th>\n",
       "      <th>model4</th>\n",
       "      <th>baseline</th>\n",
       "    </tr>\n",
       "  </thead>\n",
       "  <tbody>\n",
       "    <tr>\n",
       "      <th>0</th>\n",
       "      <td>cat</td>\n",
       "      <td>cat</td>\n",
       "      <td>dog</td>\n",
       "      <td>cat</td>\n",
       "      <td>dog</td>\n",
       "      <td>dog</td>\n",
       "    </tr>\n",
       "    <tr>\n",
       "      <th>1</th>\n",
       "      <td>dog</td>\n",
       "      <td>dog</td>\n",
       "      <td>cat</td>\n",
       "      <td>cat</td>\n",
       "      <td>dog</td>\n",
       "      <td>dog</td>\n",
       "    </tr>\n",
       "    <tr>\n",
       "      <th>2</th>\n",
       "      <td>dog</td>\n",
       "      <td>cat</td>\n",
       "      <td>cat</td>\n",
       "      <td>cat</td>\n",
       "      <td>dog</td>\n",
       "      <td>dog</td>\n",
       "    </tr>\n",
       "    <tr>\n",
       "      <th>3</th>\n",
       "      <td>dog</td>\n",
       "      <td>dog</td>\n",
       "      <td>dog</td>\n",
       "      <td>cat</td>\n",
       "      <td>dog</td>\n",
       "      <td>dog</td>\n",
       "    </tr>\n",
       "    <tr>\n",
       "      <th>4</th>\n",
       "      <td>cat</td>\n",
       "      <td>cat</td>\n",
       "      <td>cat</td>\n",
       "      <td>dog</td>\n",
       "      <td>dog</td>\n",
       "      <td>dog</td>\n",
       "    </tr>\n",
       "  </tbody>\n",
       "</table>\n",
       "</div>"
      ],
      "text/plain": [
       "  actual model1 model2 model3 model4 baseline\n",
       "0    cat    cat    dog    cat    dog      dog\n",
       "1    dog    dog    cat    cat    dog      dog\n",
       "2    dog    cat    cat    cat    dog      dog\n",
       "3    dog    dog    dog    cat    dog      dog\n",
       "4    cat    cat    cat    dog    dog      dog"
      ]
     },
     "execution_count": 19,
     "metadata": {},
     "output_type": "execute_result"
    }
   ],
   "source": [
    "paws['baseline'] = 'dog'\n",
    "paws.head()"
   ]
  },
  {
   "cell_type": "code",
   "execution_count": 20,
   "id": "d75eee52-8ac4-4138-97c3-8facb0855de6",
   "metadata": {
    "tags": []
   },
   "outputs": [
    {
     "data": {
      "text/plain": [
       "(0.6508, 0.8074, 0.6304, 0.5096, 0.7426)"
      ]
     },
     "execution_count": 20,
     "metadata": {},
     "output_type": "execute_result"
    }
   ],
   "source": [
    "# accuracy\n",
    "bl_acc = (paws.actual == paws.baseline).mean()\n",
    "m1_acc = (paws.actual == paws.model1).mean()\n",
    "m2_acc = (paws.actual == paws.model2).mean()\n",
    "m3_acc = (paws.actual == paws.model3).mean()\n",
    "m4_acc = (paws.actual == paws.model4).mean()\n",
    "\n",
    "bl_acc, m1_acc, m2_acc, m3_acc, m4_acc"
   ]
  },
  {
   "cell_type": "code",
   "execution_count": 21,
   "id": "d40deb67-3bd3-415f-88a9-84f5abdfaa56",
   "metadata": {
    "tags": []
   },
   "outputs": [
    {
     "data": {
      "text/html": [
       "<div>\n",
       "<style scoped>\n",
       "    .dataframe tbody tr th:only-of-type {\n",
       "        vertical-align: middle;\n",
       "    }\n",
       "\n",
       "    .dataframe tbody tr th {\n",
       "        vertical-align: top;\n",
       "    }\n",
       "\n",
       "    .dataframe thead th {\n",
       "        text-align: right;\n",
       "    }\n",
       "</style>\n",
       "<table border=\"1\" class=\"dataframe\">\n",
       "  <thead>\n",
       "    <tr style=\"text-align: right;\">\n",
       "      <th></th>\n",
       "      <th>model</th>\n",
       "      <th>accuracy</th>\n",
       "    </tr>\n",
       "  </thead>\n",
       "  <tbody>\n",
       "    <tr>\n",
       "      <th>0</th>\n",
       "      <td>model1</td>\n",
       "      <td>0.8074</td>\n",
       "    </tr>\n",
       "    <tr>\n",
       "      <th>3</th>\n",
       "      <td>model4</td>\n",
       "      <td>0.7426</td>\n",
       "    </tr>\n",
       "    <tr>\n",
       "      <th>4</th>\n",
       "      <td>baseline</td>\n",
       "      <td>0.6508</td>\n",
       "    </tr>\n",
       "    <tr>\n",
       "      <th>1</th>\n",
       "      <td>model2</td>\n",
       "      <td>0.6304</td>\n",
       "    </tr>\n",
       "    <tr>\n",
       "      <th>2</th>\n",
       "      <td>model3</td>\n",
       "      <td>0.5096</td>\n",
       "    </tr>\n",
       "  </tbody>\n",
       "</table>\n",
       "</div>"
      ],
      "text/plain": [
       "      model  accuracy\n",
       "0    model1    0.8074\n",
       "3    model4    0.7426\n",
       "4  baseline    0.6508\n",
       "1    model2    0.6304\n",
       "2    model3    0.5096"
      ]
     },
     "execution_count": 21,
     "metadata": {},
     "output_type": "execute_result"
    }
   ],
   "source": [
    "models = paws.loc[:, 'model1':'baseline'].columns.tolist()\n",
    "\n",
    "output = []\n",
    "for model in models:\n",
    "    output.append({\n",
    "        'model': model,\n",
    "        'accuracy': (paws[model] == paws.actual).mean()\n",
    "    })\n",
    "    \n",
    "metrics = pd.DataFrame(output)\n",
    "metrics = metrics.sort_values(by='accuracy', ascending=False)\n",
    "metrics"
   ]
  },
  {
   "cell_type": "markdown",
   "id": "5720578e-a1f1-4ed5-b575-b1bbbfa65be6",
   "metadata": {},
   "source": [
    "### **model1 and model4 are better than baseline**"
   ]
  },
  {
   "cell_type": "markdown",
   "id": "441f61d7-8a33-47ce-a423-5ae8064dfc45",
   "metadata": {},
   "source": [
    "#### b. Suppose you are working on a team that solely deals with dog pictures. Which of these models would you recommend?"
   ]
  },
  {
   "cell_type": "code",
   "execution_count": 22,
   "id": "d9434c5d-d116-402c-ae03-bc89a529b488",
   "metadata": {},
   "outputs": [
    {
     "name": "stdout",
     "output_type": "stream",
     "text": [
      "   model1 accuracy: 80.74%\n",
      "   model2 accuracy: 63.04%\n",
      "   model3 accuracy: 50.96%\n",
      "   model4 accuracy: 74.26%\n",
      "baseline accuracy: 65.08%\n",
      "\n",
      "   model1 recall: 80.33%\n",
      "   model2 recall: 49.08%\n",
      "   model3 recall: 50.86%\n",
      "   model4 recall: 95.57%\n",
      "baseline recall: 100.00%\n",
      "\n",
      "model1 precision: 89.00%\n",
      "model2 precision: 80.03%\n",
      "model3 precision: 65.99%\n",
      "model4 precision: 73.12%\n",
      "baseline precision: 65.08%\n"
     ]
    }
   ],
   "source": [
    "positive = 'dog'\n",
    "\n",
    "# accuracy -- overall hit rate\n",
    "model1_accuracy = (paws.model1 == paws.actual).mean()\n",
    "model2_accuracy = (paws.model2 == paws.actual).mean()\n",
    "model3_accuracy = (paws.model3 == paws.actual).mean()\n",
    "model4_accuracy = (paws.model4 == paws.actual).mean()\n",
    "baseline_accuracy = (paws.baseline == paws.actual).mean()\n",
    "\n",
    "# precision -- how good are our positive predictions?\n",
    "# precision -- model performance | predicted positive\n",
    "subset1 = paws[paws.model1 == positive]\n",
    "model1_precision = (subset1.model1 == subset1.actual).mean()\n",
    "subset2 = paws[paws.model2 == positive]\n",
    "model2_precision = (subset2.model1 == subset2.actual).mean()\n",
    "subset3 = paws[paws.model3 == positive]\n",
    "model3_precision = (subset3.model3 == subset3.actual).mean()\n",
    "subset4 = paws[paws.model4 == positive]\n",
    "model4_precision = (subset4.model4 == subset4.actual).mean()\n",
    "subset_bl = paws[paws.baseline == positive]\n",
    "baseline_precision = (subset_bl.baseline == subset_bl.actual).mean()\n",
    "\n",
    "# recall -- how good are we at detecting actual positives?\n",
    "# recall -- model performance | actual positive\n",
    "subset = paws[paws.actual == positive]\n",
    "model1_recall = (subset.model1 == subset.actual).mean()\n",
    "model2_recall = (subset.model2 == subset.actual).mean()\n",
    "model3_recall = (subset.model3 == subset.actual).mean()\n",
    "model4_recall = (subset.model4 == subset.actual).mean()\n",
    "baseline_recall = (subset.baseline == subset.actual).mean()\n",
    "\n",
    "\n",
    "print(f'   model1 accuracy: {model1_accuracy:.2%}')\n",
    "print(f'   model2 accuracy: {model2_accuracy:.2%}')\n",
    "print(f'   model3 accuracy: {model3_accuracy:.2%}')\n",
    "print(f'   model4 accuracy: {model4_accuracy:.2%}')\n",
    "print(f'baseline accuracy: {baseline_accuracy:.2%}')\n",
    "print()\n",
    "print(f'   model1 recall: {model1_recall:.2%}')\n",
    "print(f'   model2 recall: {model2_recall:.2%}')\n",
    "print(f'   model3 recall: {model3_recall:.2%}')\n",
    "print(f'   model4 recall: {model4_recall:.2%}')\n",
    "print(f'baseline recall: {baseline_recall:.2%}')\n",
    "print()\n",
    "print(f'model1 precision: {model1_precision:.2%}')\n",
    "print(f'model2 precision: {model2_precision:.2%}')\n",
    "print(f'model3 precision: {model3_precision:.2%}')\n",
    "print(f'model4 precision: {model4_precision:.2%}')\n",
    "print(f'baseline precision: {baseline_precision:.2%}')\n"
   ]
  },
  {
   "cell_type": "markdown",
   "id": "03a5ed96-cddf-4ee4-99ab-5996ac02808c",
   "metadata": {},
   "source": [
    "### **model4**"
   ]
  },
  {
   "cell_type": "markdown",
   "id": "f1febf68-1acb-46c3-a383-498276047b5d",
   "metadata": {},
   "source": [
    "#### c. Suppose you are working on a team that solely deals with cat pictures. Which of these models would you recommend?"
   ]
  },
  {
   "cell_type": "code",
   "execution_count": 23,
   "id": "24312179-32ed-4acf-bf3c-40d8906473dc",
   "metadata": {},
   "outputs": [
    {
     "name": "stdout",
     "output_type": "stream",
     "text": [
      "   model1 accuracy: 80.74%\n",
      "   model2 accuracy: 63.04%\n",
      "   model3 accuracy: 50.96%\n",
      "   model4 accuracy: 74.26%\n",
      "baseline accuracy: 65.08%\n",
      "\n",
      "   model1 recall: 81.50%\n",
      "   model2 recall: 89.06%\n",
      "   model3 recall: 51.15%\n",
      "   model4 recall: 34.54%\n",
      "baseline recall: 0.00%\n",
      "\n",
      "model1 precision: 68.98%\n",
      "model2 precision: 81.13%\n",
      "model3 precision: 35.83%\n",
      "model4 precision: 80.72%\n",
      "baseline precision: nan%\n"
     ]
    }
   ],
   "source": [
    "positive = 'cat'\n",
    "\n",
    "# accuracy -- overall hit rate\n",
    "model1_accuracy = (paws.model1 == paws.actual).mean()\n",
    "model2_accuracy = (paws.model2 == paws.actual).mean()\n",
    "model3_accuracy = (paws.model3 == paws.actual).mean()\n",
    "model4_accuracy = (paws.model4 == paws.actual).mean()\n",
    "baseline_accuracy = (paws.baseline == paws.actual).mean()\n",
    "\n",
    "# precision -- how good are our positive predictions?\n",
    "# precision -- model performance | predicted positive\n",
    "subset1 = paws[paws.model1 == positive]\n",
    "model1_precision = (subset1.model1 == subset1.actual).mean()\n",
    "subset2 = paws[paws.model2 == positive]\n",
    "model2_precision = (subset2.model1 == subset2.actual).mean()\n",
    "subset3 = paws[paws.model3 == positive]\n",
    "model3_precision = (subset3.model3 == subset3.actual).mean()\n",
    "subset4 = paws[paws.model4 == positive]\n",
    "model4_precision = (subset4.model4 == subset4.actual).mean()\n",
    "subset_bl = paws[paws.baseline == positive]\n",
    "baseline_precision = (subset_bl.baseline == subset_bl.actual).mean()\n",
    "\n",
    "# recall -- how good are we at detecting actual positives?\n",
    "# recall -- model performance | actual positive\n",
    "subset = paws[paws.actual == positive]\n",
    "model1_recall = (subset.model1 == subset.actual).mean()\n",
    "model2_recall = (subset.model2 == subset.actual).mean()\n",
    "model3_recall = (subset.model3 == subset.actual).mean()\n",
    "model4_recall = (subset.model4 == subset.actual).mean()\n",
    "baseline_recall = (subset.baseline == subset.actual).mean()\n",
    "\n",
    "\n",
    "print(f'   model1 accuracy: {model1_accuracy:.2%}')\n",
    "print(f'   model2 accuracy: {model2_accuracy:.2%}')\n",
    "print(f'   model3 accuracy: {model3_accuracy:.2%}')\n",
    "print(f'   model4 accuracy: {model4_accuracy:.2%}')\n",
    "print(f'baseline accuracy: {baseline_accuracy:.2%}')\n",
    "print()\n",
    "print(f'   model1 recall: {model1_recall:.2%}')\n",
    "print(f'   model2 recall: {model2_recall:.2%}')\n",
    "print(f'   model3 recall: {model3_recall:.2%}')\n",
    "print(f'   model4 recall: {model4_recall:.2%}')\n",
    "print(f'baseline recall: {baseline_recall:.2%}')\n",
    "print()\n",
    "print(f'model1 precision: {model1_precision:.2%}')\n",
    "print(f'model2 precision: {model2_precision:.2%}')\n",
    "print(f'model3 precision: {model3_precision:.2%}')\n",
    "print(f'model4 precision: {model4_precision:.2%}')\n",
    "print(f'baseline precision: {baseline_precision:.2%}')"
   ]
  },
  {
   "cell_type": "markdown",
   "id": "d79e63d5-0ad2-498d-9ae9-45310af1f21d",
   "metadata": {},
   "source": [
    "### **model1**"
   ]
  },
  {
   "cell_type": "markdown",
   "id": "143b6ccb-eb5d-40c6-bd89-c946fd570bdf",
   "metadata": {},
   "source": [
    "#### 5. Follow the links below to read the documentation about each function, then apply those functions to the data from the previous problem."
   ]
  },
  {
   "cell_type": "markdown",
   "id": "08f7ae9b-d22b-4e2b-9f9c-bef3ebe6ae29",
   "metadata": {},
   "source": [
    "- sklearn.metrics.accuracy_score\n",
    "- sklearn.metrics.precision_score\n",
    "- sklearn.metrics.recall_score\n",
    "- sklearn.metrics.classification_report"
   ]
  },
  {
   "cell_type": "code",
   "execution_count": 29,
   "id": "bf3b8604-92d8-4e3d-9cc3-6aa3d5346c0a",
   "metadata": {},
   "outputs": [
    {
     "data": {
      "text/plain": [
       "0.8074"
      ]
     },
     "execution_count": 29,
     "metadata": {},
     "output_type": "execute_result"
    }
   ],
   "source": [
    "# sklearn.metrics.accuracy_score(y_true, y_pred, normalize=True, sample_weight=None)\n",
    "\n",
    "sklearn.metrics.accuracy_score(paws.actual, paws.model1)"
   ]
  },
  {
   "cell_type": "code",
   "execution_count": 30,
   "id": "f3c2d67b-a0d6-4ebd-85a2-783ce57ca826",
   "metadata": {
    "tags": []
   },
   "outputs": [
    {
     "data": {
      "text/plain": [
       "0.4841220423412204"
      ]
     },
     "execution_count": 30,
     "metadata": {},
     "output_type": "execute_result"
    }
   ],
   "source": [
    "sklearn.metrics.precision_score(paws.actual, paws.model2, pos_label='cat')"
   ]
  },
  {
   "cell_type": "code",
   "execution_count": 31,
   "id": "1222641c-608b-4167-aa37-c386373a151e",
   "metadata": {
    "tags": []
   },
   "outputs": [
    {
     "data": {
      "text/plain": [
       "0.358346709470305"
      ]
     },
     "execution_count": 31,
     "metadata": {},
     "output_type": "execute_result"
    }
   ],
   "source": [
    "sklearn.metrics.precision_score(paws.actual, paws.model3, pos_label='cat')"
   ]
  },
  {
   "cell_type": "code",
   "execution_count": 32,
   "id": "9f4c0cbb-f78d-414b-acd6-1b36070294bc",
   "metadata": {
    "tags": []
   },
   "outputs": [
    {
     "data": {
      "text/plain": [
       "0.8072289156626506"
      ]
     },
     "execution_count": 32,
     "metadata": {},
     "output_type": "execute_result"
    }
   ],
   "source": [
    "sklearn.metrics.precision_score(paws.actual, paws.model4, pos_label='cat')"
   ]
  },
  {
   "cell_type": "code",
   "execution_count": 33,
   "id": "71a9c795-2fee-4ec4-93a9-138fe19b534b",
   "metadata": {
    "tags": []
   },
   "outputs": [
    {
     "data": {
      "text/plain": [
       "0.8900238338440586"
      ]
     },
     "execution_count": 33,
     "metadata": {},
     "output_type": "execute_result"
    }
   ],
   "source": [
    "sklearn.metrics.precision_score(paws.actual, paws.model1, pos_label='dog')"
   ]
  },
  {
   "cell_type": "code",
   "execution_count": 34,
   "id": "395f3b6a-5ffd-4c38-96c1-c9906a68d8e7",
   "metadata": {
    "tags": []
   },
   "outputs": [
    {
     "data": {
      "text/plain": [
       "0.8931767337807607"
      ]
     },
     "execution_count": 34,
     "metadata": {},
     "output_type": "execute_result"
    }
   ],
   "source": [
    "sklearn.metrics.precision_score(paws.actual, paws.model2, pos_label='dog')"
   ]
  },
  {
   "cell_type": "code",
   "execution_count": 35,
   "id": "e9e0d032-8f3a-4c7a-a083-4b848fe88dd3",
   "metadata": {
    "tags": []
   },
   "outputs": [
    {
     "data": {
      "text/plain": [
       "0.6598883572567783"
      ]
     },
     "execution_count": 35,
     "metadata": {},
     "output_type": "execute_result"
    }
   ],
   "source": [
    "sklearn.metrics.precision_score(paws.actual, paws.model3, pos_label='dog')"
   ]
  },
  {
   "cell_type": "code",
   "execution_count": 36,
   "id": "8434c898-5acd-4fd2-9949-a3afba5298a7",
   "metadata": {
    "tags": []
   },
   "outputs": [
    {
     "data": {
      "text/plain": [
       "0.7312485304490948"
      ]
     },
     "execution_count": 36,
     "metadata": {},
     "output_type": "execute_result"
    }
   ],
   "source": [
    "sklearn.metrics.precision_score(paws.actual, paws.model4, pos_label='dog')"
   ]
  },
  {
   "cell_type": "code",
   "execution_count": 38,
   "id": "8bfa2577-aec3-4e0e-8fef-324e5c222611",
   "metadata": {
    "tags": []
   },
   "outputs": [
    {
     "data": {
      "text/plain": [
       "0.8150057273768614"
      ]
     },
     "execution_count": 38,
     "metadata": {},
     "output_type": "execute_result"
    }
   ],
   "source": [
    "# sklearn.metrics.recall_score(y_true, y_pred, labels=None, pos_label=1, average='binary', sample_weight=None, zero_division='warn')\n",
    "\n",
    "sklearn.metrics.recall_score(paws.actual, paws.model1, pos_label='cat')"
   ]
  },
  {
   "cell_type": "code",
   "execution_count": 39,
   "id": "1430f70a-eb21-4f8a-a39b-0bf28f2bc750",
   "metadata": {
    "tags": []
   },
   "outputs": [
    {
     "data": {
      "text/plain": [
       "0.8906071019473081"
      ]
     },
     "execution_count": 39,
     "metadata": {},
     "output_type": "execute_result"
    }
   ],
   "source": [
    "sklearn.metrics.recall_score(paws.actual, paws.model2, pos_label='cat')"
   ]
  },
  {
   "cell_type": "code",
   "execution_count": 40,
   "id": "51d84d0d-2769-4fc5-ae0d-407282e77f28",
   "metadata": {
    "tags": []
   },
   "outputs": [
    {
     "data": {
      "text/plain": [
       "0.5114547537227949"
      ]
     },
     "execution_count": 40,
     "metadata": {},
     "output_type": "execute_result"
    }
   ],
   "source": [
    "sklearn.metrics.recall_score(paws.actual, paws.model3, pos_label='cat')"
   ]
  },
  {
   "cell_type": "code",
   "execution_count": 41,
   "id": "78f29f4d-f50b-4e43-849f-bfdbb1d09e12",
   "metadata": {
    "tags": []
   },
   "outputs": [
    {
     "data": {
      "text/plain": [
       "0.34536082474226804"
      ]
     },
     "execution_count": 41,
     "metadata": {},
     "output_type": "execute_result"
    }
   ],
   "source": [
    "sklearn.metrics.recall_score(paws.actual, paws.model4, pos_label='cat')"
   ]
  },
  {
   "cell_type": "code",
   "execution_count": 42,
   "id": "1373b4d8-bcc3-4995-b13e-196853d84c41",
   "metadata": {
    "tags": []
   },
   "outputs": [
    {
     "data": {
      "text/plain": [
       "0.803318992009834"
      ]
     },
     "execution_count": 42,
     "metadata": {},
     "output_type": "execute_result"
    }
   ],
   "source": [
    "sklearn.metrics.recall_score(paws.actual, paws.model1, pos_label='dog')"
   ]
  },
  {
   "cell_type": "code",
   "execution_count": 43,
   "id": "8f842ade-b786-4546-a56e-81765df6bd61",
   "metadata": {
    "tags": []
   },
   "outputs": [
    {
     "data": {
      "text/plain": [
       "0.49078057775046097"
      ]
     },
     "execution_count": 43,
     "metadata": {},
     "output_type": "execute_result"
    }
   ],
   "source": [
    "sklearn.metrics.recall_score(paws.actual, paws.model2, pos_label='dog')"
   ]
  },
  {
   "cell_type": "code",
   "execution_count": 44,
   "id": "04744c1a-dacc-4d57-a195-3772a8367a15",
   "metadata": {
    "tags": []
   },
   "outputs": [
    {
     "data": {
      "text/plain": [
       "0.5086047940995697"
      ]
     },
     "execution_count": 44,
     "metadata": {},
     "output_type": "execute_result"
    }
   ],
   "source": [
    "sklearn.metrics.recall_score(paws.actual, paws.model3, pos_label='dog')"
   ]
  },
  {
   "cell_type": "code",
   "execution_count": 45,
   "id": "d6a09531-01b0-443c-afd7-aff96048dde8",
   "metadata": {
    "tags": []
   },
   "outputs": [
    {
     "data": {
      "text/plain": [
       "0.9557467732022127"
      ]
     },
     "execution_count": 45,
     "metadata": {},
     "output_type": "execute_result"
    }
   ],
   "source": [
    "sklearn.metrics.recall_score(paws.actual, paws.model4, pos_label='dog')"
   ]
  },
  {
   "cell_type": "code",
   "execution_count": null,
   "id": "141b6adc-c865-4067-a007-3f3c52b6bceb",
   "metadata": {},
   "outputs": [],
   "source": []
  },
  {
   "cell_type": "code",
   "execution_count": 47,
   "id": "d1e481f1-6050-4f12-8137-e60e70afd3d0",
   "metadata": {},
   "outputs": [
    {
     "data": {
      "text/html": [
       "<div>\n",
       "<style scoped>\n",
       "    .dataframe tbody tr th:only-of-type {\n",
       "        vertical-align: middle;\n",
       "    }\n",
       "\n",
       "    .dataframe tbody tr th {\n",
       "        vertical-align: top;\n",
       "    }\n",
       "\n",
       "    .dataframe thead th {\n",
       "        text-align: right;\n",
       "    }\n",
       "</style>\n",
       "<table border=\"1\" class=\"dataframe\">\n",
       "  <thead>\n",
       "    <tr style=\"text-align: right;\">\n",
       "      <th></th>\n",
       "      <th>cat</th>\n",
       "      <th>dog</th>\n",
       "      <th>accuracy</th>\n",
       "      <th>macro avg</th>\n",
       "      <th>weighted avg</th>\n",
       "    </tr>\n",
       "  </thead>\n",
       "  <tbody>\n",
       "    <tr>\n",
       "      <th>precision</th>\n",
       "      <td>0.689772</td>\n",
       "      <td>0.890024</td>\n",
       "      <td>0.8074</td>\n",
       "      <td>0.789898</td>\n",
       "      <td>0.820096</td>\n",
       "    </tr>\n",
       "    <tr>\n",
       "      <th>recall</th>\n",
       "      <td>0.815006</td>\n",
       "      <td>0.803319</td>\n",
       "      <td>0.8074</td>\n",
       "      <td>0.809162</td>\n",
       "      <td>0.807400</td>\n",
       "    </tr>\n",
       "    <tr>\n",
       "      <th>f1-score</th>\n",
       "      <td>0.747178</td>\n",
       "      <td>0.844452</td>\n",
       "      <td>0.8074</td>\n",
       "      <td>0.795815</td>\n",
       "      <td>0.810484</td>\n",
       "    </tr>\n",
       "    <tr>\n",
       "      <th>support</th>\n",
       "      <td>1746.000000</td>\n",
       "      <td>3254.000000</td>\n",
       "      <td>0.8074</td>\n",
       "      <td>5000.000000</td>\n",
       "      <td>5000.000000</td>\n",
       "    </tr>\n",
       "  </tbody>\n",
       "</table>\n",
       "</div>"
      ],
      "text/plain": [
       "                   cat          dog  accuracy    macro avg  weighted avg\n",
       "precision     0.689772     0.890024    0.8074     0.789898      0.820096\n",
       "recall        0.815006     0.803319    0.8074     0.809162      0.807400\n",
       "f1-score      0.747178     0.844452    0.8074     0.795815      0.810484\n",
       "support    1746.000000  3254.000000    0.8074  5000.000000   5000.000000"
      ]
     },
     "execution_count": 47,
     "metadata": {},
     "output_type": "execute_result"
    }
   ],
   "source": [
    "# sklearn.metrics.classification_report(y_true, y_pred, labels=None, target_names=None, sample_weight=None, digits=2, output_dict=False, zero_division='warn')\n",
    "\n",
    "target_names = paws.actual.unique()\n",
    "x = sklearn.metrics.classification_report(paws.actual, paws.model1, target_names=target_names, output_dict=True)\n",
    "pd.DataFrame(x)"
   ]
  },
  {
   "cell_type": "code",
   "execution_count": null,
   "id": "b01fef8d-8a7d-4420-825a-3e6cc512e7cb",
   "metadata": {},
   "outputs": [],
   "source": []
  }
 ],
 "metadata": {
  "kernelspec": {
   "display_name": "Python 3 (ipykernel)",
   "language": "python",
   "name": "python3"
  },
  "language_info": {
   "codemirror_mode": {
    "name": "ipython",
    "version": 3
   },
   "file_extension": ".py",
   "mimetype": "text/x-python",
   "name": "python",
   "nbconvert_exporter": "python",
   "pygments_lexer": "ipython3",
   "version": "3.11.4"
  }
 },
 "nbformat": 4,
 "nbformat_minor": 5
}
