{
 "cells": [
  {
   "cell_type": "code",
   "execution_count": 10,
   "id": "bd9673ac-eaab-4436-95b8-281dd2766c56",
   "metadata": {
    "tags": []
   },
   "outputs": [],
   "source": [
    "import pandas as pd\n",
    "import numpy as np\n",
    "\n",
    "import seaborn as sns\n",
    "import matplotlib.pyplot as plt\n",
    "from sklearn import preprocessing\n",
    "from sklearn.impute import SimpleImputer\n",
    "from sklearn.model_selection import train_test_split\n",
    "import scipy as sp\n",
    "from pydataset import data\n",
    "from env import get_db_url, user, password, host\n",
    "from scipy import stats\n",
    "import warnings\n",
    "warnings.filterwarnings(\"ignore\")\n",
    "\n",
    "import acquire as acq\n",
    "import os\n",
    "directory = os.getcwd()"
   ]
  },
  {
   "cell_type": "markdown",
   "id": "42815429-3f41-4b3b-ba1d-f45377ba9547",
   "metadata": {},
   "source": [
    "## Exercises\n",
    "\n",
    "### 1. Create a new file named model_evaluation.py or model_evaluation.ipynb for these exercises.\n",
    "### 2. Given the following confusion matrix, evaluate (by hand) the model's performance.\n",
    "|               | pred dog (+)  | pred not dog (-)  |\n",
    "|:------------  |-----------:|-----------:|\n",
    "| actual dog (+)   |         46 |         7  |\n",
    "| actual not dog (-)   |         13 |         34 |\n",
    "\n",
    "#### - In the context of this problem, what is a false positive?\n",
    "#### - In the context of this problem, what is a false negative?\n",
    "#### - How would you describe this model?"
   ]
  },
  {
   "cell_type": "code",
   "execution_count": 15,
   "id": "2b19297d-b7ac-4d21-8f75-7cc7c5471533",
   "metadata": {
    "tags": []
   },
   "outputs": [
    {
     "data": {
      "text/plain": [
       "0.8"
      ]
     },
     "execution_count": 15,
     "metadata": {},
     "output_type": "execute_result"
    }
   ],
   "source": [
    "Accuracy = (34 + 46) / (34 + 7 + 13 + 46)\n",
    "Accuracy\n",
    "# - In the context of this problem, what is a false positive? Answer-\n",
    "# I will assume we are predicting to find dog.\n",
    "\n",
    "# FP: false positive happens when predicted (+) and actual (-) occurs, which in this case = 13\n",
    "# Type I error "
   ]
  },
  {
   "cell_type": "code",
   "execution_count": 4,
   "id": "1205c784-42db-4ad0-9809-7bc637e3203f",
   "metadata": {
    "tags": []
   },
   "outputs": [],
   "source": [
    "# - In the context of this problem, what is a false negative? Answer-\n",
    "# FN: happens when predicted negative (-) and actul positive (+) occurs, which in this case = 7\n",
    "# Type II error"
   ]
  },
  {
   "cell_type": "code",
   "execution_count": 5,
   "id": "3719e706-0722-4eb7-8d8a-cf8a33e37f4c",
   "metadata": {
    "tags": []
   },
   "outputs": [],
   "source": [
    "# - How would you describe this model? Answer-\n",
    "# TP: We predicted dog, was dog (46)\n",
    "# TN: We predicted not-dog, was not-dog (34)\n",
    "# FP: We predicted dog, was not-dog (13) - Type I Error\n",
    "# FN: We predicted not-dog, was dog (7) - Type II Error\n",
    "TP = 46\n",
    "TN = 34\n",
    "FP = 13\n",
    "FN = 7\n",
    "\n",
    "#with an accuracy of 0.8, i think the model did well."
   ]
  },
  {
   "cell_type": "markdown",
   "id": "b465d2d5-5572-41ef-8d59-707051dae759",
   "metadata": {},
   "source": [
    "#### 3. You are working as a datascientist working for Codeup Cody Creator (C3 for short), a rubber-duck manufacturing plant.\n",
    "#### Unfortunately, some of the rubber ducks that are produced will have defects. Your team has built several models that try to predict those defects, and the data from their predictions can be found here.\n",
    "#### Use the predictions dataset and pandas to help answer the following questions:"
   ]
  },
  {
   "cell_type": "code",
   "execution_count": 16,
   "id": "eb8fd036-2a0c-4688-8e8a-07625f467c47",
   "metadata": {},
   "outputs": [
    {
     "data": {
      "text/html": [
       "<div>\n",
       "<style scoped>\n",
       "    .dataframe tbody tr th:only-of-type {\n",
       "        vertical-align: middle;\n",
       "    }\n",
       "\n",
       "    .dataframe tbody tr th {\n",
       "        vertical-align: top;\n",
       "    }\n",
       "\n",
       "    .dataframe thead th {\n",
       "        text-align: right;\n",
       "    }\n",
       "</style>\n",
       "<table border=\"1\" class=\"dataframe\">\n",
       "  <thead>\n",
       "    <tr style=\"text-align: right;\">\n",
       "      <th></th>\n",
       "      <th>actual</th>\n",
       "      <th>model1</th>\n",
       "      <th>model2</th>\n",
       "      <th>model3</th>\n",
       "    </tr>\n",
       "  </thead>\n",
       "  <tbody>\n",
       "    <tr>\n",
       "      <th>0</th>\n",
       "      <td>No Defect</td>\n",
       "      <td>No Defect</td>\n",
       "      <td>Defect</td>\n",
       "      <td>No Defect</td>\n",
       "    </tr>\n",
       "    <tr>\n",
       "      <th>1</th>\n",
       "      <td>No Defect</td>\n",
       "      <td>No Defect</td>\n",
       "      <td>Defect</td>\n",
       "      <td>Defect</td>\n",
       "    </tr>\n",
       "    <tr>\n",
       "      <th>2</th>\n",
       "      <td>No Defect</td>\n",
       "      <td>No Defect</td>\n",
       "      <td>Defect</td>\n",
       "      <td>No Defect</td>\n",
       "    </tr>\n",
       "    <tr>\n",
       "      <th>3</th>\n",
       "      <td>No Defect</td>\n",
       "      <td>Defect</td>\n",
       "      <td>Defect</td>\n",
       "      <td>Defect</td>\n",
       "    </tr>\n",
       "    <tr>\n",
       "      <th>4</th>\n",
       "      <td>No Defect</td>\n",
       "      <td>No Defect</td>\n",
       "      <td>Defect</td>\n",
       "      <td>No Defect</td>\n",
       "    </tr>\n",
       "  </tbody>\n",
       "</table>\n",
       "</div>"
      ],
      "text/plain": [
       "      actual     model1  model2     model3\n",
       "0  No Defect  No Defect  Defect  No Defect\n",
       "1  No Defect  No Defect  Defect     Defect\n",
       "2  No Defect  No Defect  Defect  No Defect\n",
       "3  No Defect     Defect  Defect     Defect\n",
       "4  No Defect  No Defect  Defect  No Defect"
      ]
     },
     "execution_count": 16,
     "metadata": {},
     "output_type": "execute_result"
    }
   ],
   "source": [
    "ducks = pd.read_csv('c3.csv')\n",
    "ducks.head()"
   ]
  },
  {
   "cell_type": "markdown",
   "id": "515fbec7-bb9a-4004-8e8c-1af31c829336",
   "metadata": {},
   "source": [
    "#### - An internal team wants to investigate the cause of the manufacturing defects. They tell you that they want to identify as many of the ducks that have a defect as possible. Which evaluation metric would be appropriate here? Which model would be the best fit for this use case?"
   ]
  },
  {
   "cell_type": "code",
   "execution_count": 17,
   "id": "264ae4ab-9e6a-430c-ac49-1f1cc7598dc9",
   "metadata": {},
   "outputs": [],
   "source": [
    "# True Positive Results\n",
    "\n",
    "TP_m1 = ducks[(ducks.actual == 'Defect') & (ducks.model1 == 'Defect')]\n",
    "TP_m1 = TP_m1[['actual', 'model1']]\n",
    "TP_m1 = TP_m1.shape[0]\n",
    "\n",
    "TP_m2 = ducks[(ducks.actual == 'Defect') & (ducks.model2 == 'Defect')]\n",
    "TP_m2 = TP_m2[['actual', 'model2']]\n",
    "TP_m2 = TP_m2.shape[0]\n",
    "\n",
    "TP_m3 = ducks[(ducks.actual == 'Defect') & (ducks.model3 == 'Defect')]\n",
    "TP_m3 = TP_m3[['actual', 'model3']]\n",
    "TP_m3 = TP_m3.shape[0]"
   ]
  },
  {
   "cell_type": "code",
   "execution_count": 18,
   "id": "a1483377-4540-4a63-a61a-6802d1ed4518",
   "metadata": {
    "tags": []
   },
   "outputs": [],
   "source": [
    "# True Negatives\n",
    "\n",
    "TN_m1 = ducks[(ducks.actual == 'No Defect') & (ducks.model1 == 'No Defect')]\n",
    "TN_m1 = TN_m1[['actual', 'model1']]\n",
    "TN_m1 = TN_m1.shape[0]\n",
    "\n",
    "TN_m2 = ducks[(ducks.actual == 'No Defect') & (ducks.model2 == 'No Defect')]\n",
    "TN_m2 = TN_m2[['actual', 'model2']]\n",
    "TN_m2 = TN_m2.shape[0]\n",
    "\n",
    "TN_m3 = ducks[(ducks.actual == 'No Defect') & (ducks.model3 == 'No Defect')]\n",
    "TN_m3 = TN_m3[['actual', 'model3']]\n",
    "TN_m3 = TN_m3.shape[0]"
   ]
  },
  {
   "cell_type": "code",
   "execution_count": 19,
   "id": "ab81d9eb-764f-4dc2-9cf0-667460642d01",
   "metadata": {
    "tags": []
   },
   "outputs": [],
   "source": [
    "# False Positives\n",
    "\n",
    "FP_m1 = ducks[(ducks.actual == 'No Defect') & (ducks.model1 == 'Defect')]\n",
    "FP_m1 = FP_m1[['actual', 'model1']]\n",
    "FP_m1 = FP_m1.shape[0]\n",
    "\n",
    "FP_m2 = ducks[(ducks.actual == 'No Defect') & (ducks.model2 == 'Defect')]\n",
    "FP_m2 = FP_m2[['actual', 'model2']]\n",
    "FP_m2 = FP_m2.shape[0]\n",
    "\n",
    "FP_m3 = ducks[(ducks.actual == 'No Defect') & (ducks.model3 == 'Defect')]\n",
    "FP_m3 = FP_m3[['actual', 'model3']]\n",
    "FP_m3 = FP_m3.shape[0]"
   ]
  },
  {
   "cell_type": "code",
   "execution_count": 20,
   "id": "11f2a54b-a763-4621-8a06-f093272a216c",
   "metadata": {
    "tags": []
   },
   "outputs": [],
   "source": [
    "# False Negative\n",
    "\n",
    "FN_m1 = ducks[(ducks.actual == 'Defect') & (ducks.model1 == 'No Defect')]\n",
    "FN_m1 = FN_m1[['actual', 'model1']]\n",
    "FN_m1 = FN_m1.shape[0]\n",
    "\n",
    "FN_m2 = ducks[(ducks.actual == 'Defect') & (ducks.model2 == 'No Defect')]\n",
    "FN_m2 = FN_m2[['actual', 'model2']]\n",
    "FN_m2 = FN_m2.shape[0]\n",
    "\n",
    "FN_m3 = ducks[(ducks.actual == 'Defect') & (ducks.model3 == 'No Defect')]\n",
    "FN_m3 = FN_m3[['actual', 'model3']]\n",
    "FN_m3 = FN_m3.shape[0]"
   ]
  },
  {
   "cell_type": "code",
   "execution_count": null,
   "id": "02479ed2-bb86-4046-9ce4-6ebad0438b95",
   "metadata": {},
   "outputs": [],
   "source": []
  },
  {
   "cell_type": "markdown",
   "id": "6221091f-e59e-4836-a7c9-3573398ea7c8",
   "metadata": {},
   "source": [
    "#### - Recently several stories in the local news have come out highlighting customers who received a rubber duck with a defect, and portraying C3 in a bad light. The PR team has decided to launch a program that gives customers with a defective duck a vacation to Hawaii. They need you to predict which ducks will have defects, but tell you the really don't want to accidentally give out a vacation package when the duck really doesn't have a defect. Which evaluation metric would be appropriate here? Which model would be the best fit for this use case?"
   ]
  },
  {
   "cell_type": "code",
   "execution_count": null,
   "id": "d3dff9ca-10d8-4e2d-9e9a-db7f9c5d470e",
   "metadata": {},
   "outputs": [],
   "source": []
  },
  {
   "cell_type": "markdown",
   "id": "1abb0b46-a684-4d20-a50b-8cecfa508a76",
   "metadata": {},
   "source": [
    "#### 4. You are working as a data scientist for Gives You Paws ™, a subscription based service that shows you cute pictures of dogs or cats (or both for an additional fee).\n",
    "#### At Gives You Paws, anyone can upload pictures of their cats or dogs. The photos are then put through a two step process. First an automated algorithm tags pictures as either a cat or a dog (Phase I). Next, the photos that have been initially identified are put through another round of review, possibly with some human oversight, before being presented to the users (Phase II).\n",
    "#### Several models have already been developed with the data, and you can find their results here.\n",
    "#### Given this dataset, use pandas to create a baseline model (i.e. a model that just predicts the most common class) and answer the following questions:\n",
    "#### a. In terms of accuracy, how do the various models compare to the baseline model? Are any of the models better than the baseline?"
   ]
  },
  {
   "cell_type": "code",
   "execution_count": null,
   "id": "17eed276-53bd-421e-871b-a9b195e31869",
   "metadata": {},
   "outputs": [],
   "source": []
  },
  {
   "cell_type": "markdown",
   "id": "441f61d7-8a33-47ce-a423-5ae8064dfc45",
   "metadata": {},
   "source": [
    "#### b. Suppose you are working on a team that solely deals with dog pictures. Which of these models would you recommend?"
   ]
  },
  {
   "cell_type": "code",
   "execution_count": null,
   "id": "d9434c5d-d116-402c-ae03-bc89a529b488",
   "metadata": {},
   "outputs": [],
   "source": []
  },
  {
   "cell_type": "markdown",
   "id": "f1febf68-1acb-46c3-a383-498276047b5d",
   "metadata": {},
   "source": [
    "#### c. Suppose you are working on a team that solely deals with cat pictures. Which of these models would you recommend?"
   ]
  },
  {
   "cell_type": "code",
   "execution_count": null,
   "id": "24312179-32ed-4acf-bf3c-40d8906473dc",
   "metadata": {},
   "outputs": [],
   "source": []
  },
  {
   "cell_type": "markdown",
   "id": "143b6ccb-eb5d-40c6-bd89-c946fd570bdf",
   "metadata": {},
   "source": [
    "#### 5. Follow the links below to read the documentation about each function, then apply those functions to the data from the previous problem."
   ]
  },
  {
   "cell_type": "markdown",
   "id": "08f7ae9b-d22b-4e2b-9f9c-bef3ebe6ae29",
   "metadata": {},
   "source": [
    "- sklearn.metrics.accuracy_score\n",
    "- sklearn.metrics.precision_score\n",
    "- sklearn.metrics.recall_score\n",
    "- sklearn.metrics.classification_report"
   ]
  },
  {
   "cell_type": "code",
   "execution_count": null,
   "id": "bf3b8604-92d8-4e3d-9cc3-6aa3d5346c0a",
   "metadata": {},
   "outputs": [],
   "source": []
  },
  {
   "cell_type": "code",
   "execution_count": null,
   "id": "63e22e8c-9bae-4aef-87a3-97df87f22b5d",
   "metadata": {},
   "outputs": [],
   "source": []
  },
  {
   "cell_type": "code",
   "execution_count": null,
   "id": "d1e481f1-6050-4f12-8137-e60e70afd3d0",
   "metadata": {},
   "outputs": [],
   "source": []
  },
  {
   "cell_type": "code",
   "execution_count": null,
   "id": "b01fef8d-8a7d-4420-825a-3e6cc512e7cb",
   "metadata": {},
   "outputs": [],
   "source": []
  }
 ],
 "metadata": {
  "kernelspec": {
   "display_name": "Python 3 (ipykernel)",
   "language": "python",
   "name": "python3"
  },
  "language_info": {
   "codemirror_mode": {
    "name": "ipython",
    "version": 3
   },
   "file_extension": ".py",
   "mimetype": "text/x-python",
   "name": "python",
   "nbconvert_exporter": "python",
   "pygments_lexer": "ipython3",
   "version": "3.11.4"
  }
 },
 "nbformat": 4,
 "nbformat_minor": 5
}
