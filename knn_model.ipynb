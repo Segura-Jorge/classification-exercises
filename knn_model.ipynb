{
 "cells": [
  {
   "cell_type": "code",
   "execution_count": 5,
   "id": "9845264b-e941-42f4-bd82-73d17b914d20",
   "metadata": {},
   "outputs": [],
   "source": [
    "import numpy as np\n",
    "import pandas as pd\n",
    "from sklearn.neighbors import KNeighborsClassifier\n",
    "import acquire, prepare\n",
    "import matplotlib.pyplot as plt\n",
    "from sklearn.metrics import classification_report, confusion_matrix\n",
    "\n",
    "import warnings\n",
    "warnings.filterwarnings(\"ignore\")"
   ]
  },
  {
   "cell_type": "code",
   "execution_count": 2,
   "id": "8245c70b-ed02-4912-9a57-0a06e81b090b",
   "metadata": {
    "tags": []
   },
   "outputs": [
    {
     "data": {
      "text/html": [
       "<div>\n",
       "<style scoped>\n",
       "    .dataframe tbody tr th:only-of-type {\n",
       "        vertical-align: middle;\n",
       "    }\n",
       "\n",
       "    .dataframe tbody tr th {\n",
       "        vertical-align: top;\n",
       "    }\n",
       "\n",
       "    .dataframe thead th {\n",
       "        text-align: right;\n",
       "    }\n",
       "</style>\n",
       "<table border=\"1\" class=\"dataframe\">\n",
       "  <thead>\n",
       "    <tr style=\"text-align: right;\">\n",
       "      <th></th>\n",
       "      <th>Unnamed: 0</th>\n",
       "      <th>passenger_id</th>\n",
       "      <th>survived</th>\n",
       "      <th>pclass</th>\n",
       "      <th>sex</th>\n",
       "      <th>age</th>\n",
       "      <th>sibsp</th>\n",
       "      <th>parch</th>\n",
       "      <th>fare</th>\n",
       "      <th>embarked</th>\n",
       "      <th>class</th>\n",
       "      <th>deck</th>\n",
       "      <th>embark_town</th>\n",
       "      <th>alone</th>\n",
       "    </tr>\n",
       "  </thead>\n",
       "  <tbody>\n",
       "    <tr>\n",
       "      <th>0</th>\n",
       "      <td>0</td>\n",
       "      <td>0</td>\n",
       "      <td>0</td>\n",
       "      <td>3</td>\n",
       "      <td>male</td>\n",
       "      <td>22.0</td>\n",
       "      <td>1</td>\n",
       "      <td>0</td>\n",
       "      <td>7.2500</td>\n",
       "      <td>S</td>\n",
       "      <td>Third</td>\n",
       "      <td>NaN</td>\n",
       "      <td>Southampton</td>\n",
       "      <td>0</td>\n",
       "    </tr>\n",
       "    <tr>\n",
       "      <th>1</th>\n",
       "      <td>1</td>\n",
       "      <td>1</td>\n",
       "      <td>1</td>\n",
       "      <td>1</td>\n",
       "      <td>female</td>\n",
       "      <td>38.0</td>\n",
       "      <td>1</td>\n",
       "      <td>0</td>\n",
       "      <td>71.2833</td>\n",
       "      <td>C</td>\n",
       "      <td>First</td>\n",
       "      <td>C</td>\n",
       "      <td>Cherbourg</td>\n",
       "      <td>0</td>\n",
       "    </tr>\n",
       "    <tr>\n",
       "      <th>2</th>\n",
       "      <td>2</td>\n",
       "      <td>2</td>\n",
       "      <td>1</td>\n",
       "      <td>3</td>\n",
       "      <td>female</td>\n",
       "      <td>26.0</td>\n",
       "      <td>0</td>\n",
       "      <td>0</td>\n",
       "      <td>7.9250</td>\n",
       "      <td>S</td>\n",
       "      <td>Third</td>\n",
       "      <td>NaN</td>\n",
       "      <td>Southampton</td>\n",
       "      <td>1</td>\n",
       "    </tr>\n",
       "    <tr>\n",
       "      <th>3</th>\n",
       "      <td>3</td>\n",
       "      <td>3</td>\n",
       "      <td>1</td>\n",
       "      <td>1</td>\n",
       "      <td>female</td>\n",
       "      <td>35.0</td>\n",
       "      <td>1</td>\n",
       "      <td>0</td>\n",
       "      <td>53.1000</td>\n",
       "      <td>S</td>\n",
       "      <td>First</td>\n",
       "      <td>C</td>\n",
       "      <td>Southampton</td>\n",
       "      <td>0</td>\n",
       "    </tr>\n",
       "    <tr>\n",
       "      <th>4</th>\n",
       "      <td>4</td>\n",
       "      <td>4</td>\n",
       "      <td>0</td>\n",
       "      <td>3</td>\n",
       "      <td>male</td>\n",
       "      <td>35.0</td>\n",
       "      <td>0</td>\n",
       "      <td>0</td>\n",
       "      <td>8.0500</td>\n",
       "      <td>S</td>\n",
       "      <td>Third</td>\n",
       "      <td>NaN</td>\n",
       "      <td>Southampton</td>\n",
       "      <td>1</td>\n",
       "    </tr>\n",
       "  </tbody>\n",
       "</table>\n",
       "</div>"
      ],
      "text/plain": [
       "   Unnamed: 0  passenger_id  survived  pclass     sex   age  sibsp  parch  \\\n",
       "0           0             0         0       3    male  22.0      1      0   \n",
       "1           1             1         1       1  female  38.0      1      0   \n",
       "2           2             2         1       3  female  26.0      0      0   \n",
       "3           3             3         1       1  female  35.0      1      0   \n",
       "4           4             4         0       3    male  35.0      0      0   \n",
       "\n",
       "      fare embarked  class deck  embark_town  alone  \n",
       "0   7.2500        S  Third  NaN  Southampton      0  \n",
       "1  71.2833        C  First    C    Cherbourg      0  \n",
       "2   7.9250        S  Third  NaN  Southampton      1  \n",
       "3  53.1000        S  First    C  Southampton      0  \n",
       "4   8.0500        S  Third  NaN  Southampton      1  "
      ]
     },
     "execution_count": 2,
     "metadata": {},
     "output_type": "execute_result"
    }
   ],
   "source": [
    "# Acquire Step\n",
    "df = acquire.get_titanic_data()\n",
    "# prepare the data\n",
    "df.head()"
   ]
  },
  {
   "cell_type": "code",
   "execution_count": 6,
   "id": "9c7e57ea-c1eb-4259-a3a9-382aef328523",
   "metadata": {
    "tags": []
   },
   "outputs": [
    {
     "data": {
      "text/plain": [
       "((498, 10), (214, 10), (179, 10))"
      ]
     },
     "execution_count": 6,
     "metadata": {},
     "output_type": "execute_result"
    }
   ],
   "source": [
    "train, validate, test = prepare.prep_titanic_data(df)\n",
    "\n",
    "# drop object columns and create X_train of features only \n",
    "# and y_train of survived only. \n",
    "X_train = train.drop(columns=['survived'])\n",
    "y_train = train.survived\n",
    "\n",
    "X_validate = validate.drop(columns=['survived'])\n",
    "y_validate = validate.survived\n",
    "\n",
    "X_test = test.drop(columns=['survived'])\n",
    "y_test = test.survived\n",
    "\n",
    "# check the shape\n",
    "X_train.shape, X_validate.shape, X_test.shape"
   ]
  },
  {
   "cell_type": "code",
   "execution_count": 7,
   "id": "bb05a83d-ade7-4261-9183-79846d7943d0",
   "metadata": {
    "tags": []
   },
   "outputs": [],
   "source": [
    "def establish_baseline(y_train):\n",
    "    #  establish the value we will predict for all observations\n",
    "    baseline_prediction = y_train.mode()\n",
    "\n",
    "    # create a series of predictions with that value, \n",
    "    # the same length as our training set\n",
    "    y_train_pred = pd.Series([0]*len(y_train))\n",
    "\n",
    "    # compute accuracy of baseline\n",
    "    cm = confusion_matrix(y_train, y_train_pred)\n",
    "    tn, fp, fn, tp = cm.ravel()\n",
    "\n",
    "    accuracy = (tp+tn)/(tn+fp+fn+tp)\n",
    "    return accuracy"
   ]
  },
  {
   "cell_type": "code",
   "execution_count": 8,
   "id": "b2b8616b-31f8-4753-9d76-f3993c5bdf2f",
   "metadata": {
    "tags": []
   },
   "outputs": [
    {
     "data": {
      "text/plain": [
       "0.6164658634538153"
      ]
     },
     "execution_count": 8,
     "metadata": {},
     "output_type": "execute_result"
    }
   ],
   "source": [
    "establish_baseline(y_train)"
   ]
  },
  {
   "cell_type": "markdown",
   "id": "b6e3018f-f50e-48ed-abda-b9d7420a14f3",
   "metadata": {},
   "source": [
    "#### 1. Fit a K-Nearest Neighbors classifier to your training sample and transform (i.e. make predictions on the training sample)"
   ]
  },
  {
   "cell_type": "code",
   "execution_count": 9,
   "id": "1ef6f24a-4fa9-4eeb-973f-95527a597e7f",
   "metadata": {},
   "outputs": [],
   "source": [
    "knn = KNeighborsClassifier()\n",
    "knn.fit(X_train, y_train)\n",
    "y_train_pred = knn.predict(X_train)"
   ]
  },
  {
   "cell_type": "markdown",
   "id": "5682dd2c-22ce-45d0-b541-c822069f1f14",
   "metadata": {},
   "source": [
    "#### 2. Evaluate your results using the model score, confusion matrix, and classification report."
   ]
  },
  {
   "cell_type": "code",
   "execution_count": 10,
   "id": "d5c38723-8654-4b3a-9eeb-47217e94ee43",
   "metadata": {},
   "outputs": [
    {
     "data": {
      "text/plain": [
       "0.7429718875502008"
      ]
     },
     "execution_count": 10,
     "metadata": {},
     "output_type": "execute_result"
    }
   ],
   "source": [
    "accuracy_train = knn.score(X_train, y_train)\n",
    "accuracy_train"
   ]
  },
  {
   "cell_type": "code",
   "execution_count": 11,
   "id": "dbaf6690-0f6a-407d-a725-1e69a7a98d5d",
   "metadata": {
    "tags": []
   },
   "outputs": [
    {
     "data": {
      "text/html": [
       "<div>\n",
       "<style scoped>\n",
       "    .dataframe tbody tr th:only-of-type {\n",
       "        vertical-align: middle;\n",
       "    }\n",
       "\n",
       "    .dataframe tbody tr th {\n",
       "        vertical-align: top;\n",
       "    }\n",
       "\n",
       "    .dataframe thead th {\n",
       "        text-align: right;\n",
       "    }\n",
       "</style>\n",
       "<table border=\"1\" class=\"dataframe\">\n",
       "  <thead>\n",
       "    <tr style=\"text-align: right;\">\n",
       "      <th></th>\n",
       "      <th>Pred 0</th>\n",
       "      <th>Pred 1</th>\n",
       "    </tr>\n",
       "  </thead>\n",
       "  <tbody>\n",
       "    <tr>\n",
       "      <th>Actual 0</th>\n",
       "      <td>266</td>\n",
       "      <td>41</td>\n",
       "    </tr>\n",
       "    <tr>\n",
       "      <th>Actual 1</th>\n",
       "      <td>87</td>\n",
       "      <td>104</td>\n",
       "    </tr>\n",
       "  </tbody>\n",
       "</table>\n",
       "</div>"
      ],
      "text/plain": [
       "          Pred 0  Pred 1\n",
       "Actual 0     266      41\n",
       "Actual 1      87     104"
      ]
     },
     "execution_count": 11,
     "metadata": {},
     "output_type": "execute_result"
    }
   ],
   "source": [
    "cm = confusion_matrix(y_train, y_train_pred)\n",
    "pd.DataFrame(cm, index=['Actual 0', 'Actual 1'], \n",
    "             columns=['Pred 0', 'Pred 1'])"
   ]
  },
  {
   "cell_type": "code",
   "execution_count": 12,
   "id": "5686c513-cb73-40b4-8f64-aed3b9aad573",
   "metadata": {
    "tags": []
   },
   "outputs": [
    {
     "data": {
      "text/html": [
       "<div>\n",
       "<style scoped>\n",
       "    .dataframe tbody tr th:only-of-type {\n",
       "        vertical-align: middle;\n",
       "    }\n",
       "\n",
       "    .dataframe tbody tr th {\n",
       "        vertical-align: top;\n",
       "    }\n",
       "\n",
       "    .dataframe thead th {\n",
       "        text-align: right;\n",
       "    }\n",
       "</style>\n",
       "<table border=\"1\" class=\"dataframe\">\n",
       "  <thead>\n",
       "    <tr style=\"text-align: right;\">\n",
       "      <th></th>\n",
       "      <th>0</th>\n",
       "      <th>1</th>\n",
       "      <th>accuracy</th>\n",
       "      <th>macro avg</th>\n",
       "      <th>weighted avg</th>\n",
       "    </tr>\n",
       "  </thead>\n",
       "  <tbody>\n",
       "    <tr>\n",
       "      <th>precision</th>\n",
       "      <td>0.753541</td>\n",
       "      <td>0.717241</td>\n",
       "      <td>0.742972</td>\n",
       "      <td>0.735391</td>\n",
       "      <td>0.739619</td>\n",
       "    </tr>\n",
       "    <tr>\n",
       "      <th>recall</th>\n",
       "      <td>0.866450</td>\n",
       "      <td>0.544503</td>\n",
       "      <td>0.742972</td>\n",
       "      <td>0.705476</td>\n",
       "      <td>0.742972</td>\n",
       "    </tr>\n",
       "    <tr>\n",
       "      <th>f1-score</th>\n",
       "      <td>0.806061</td>\n",
       "      <td>0.619048</td>\n",
       "      <td>0.742972</td>\n",
       "      <td>0.712554</td>\n",
       "      <td>0.734335</td>\n",
       "    </tr>\n",
       "    <tr>\n",
       "      <th>support</th>\n",
       "      <td>307.000000</td>\n",
       "      <td>191.000000</td>\n",
       "      <td>0.742972</td>\n",
       "      <td>498.000000</td>\n",
       "      <td>498.000000</td>\n",
       "    </tr>\n",
       "  </tbody>\n",
       "</table>\n",
       "</div>"
      ],
      "text/plain": [
       "                    0           1  accuracy   macro avg  weighted avg\n",
       "precision    0.753541    0.717241  0.742972    0.735391      0.739619\n",
       "recall       0.866450    0.544503  0.742972    0.705476      0.742972\n",
       "f1-score     0.806061    0.619048  0.742972    0.712554      0.734335\n",
       "support    307.000000  191.000000  0.742972  498.000000    498.000000"
      ]
     },
     "execution_count": 12,
     "metadata": {},
     "output_type": "execute_result"
    }
   ],
   "source": [
    "pd.DataFrame(classification_report(y_train, \n",
    "                                   y_train_pred, \n",
    "                                   output_dict=True))"
   ]
  },
  {
   "cell_type": "markdown",
   "id": "c1c9b233-44a8-415f-9807-88f2d9ea1e26",
   "metadata": {},
   "source": [
    "#### 3. Print and clearly label the following: Accuracy, true positive rate, false positive rate, true negative rate, false negative rate, precision, recall, f1-score, and support."
   ]
  },
  {
   "cell_type": "code",
   "execution_count": 13,
   "id": "dafb8444-e5a5-4495-9a29-4a549beb63ca",
   "metadata": {},
   "outputs": [
    {
     "name": "stdout",
     "output_type": "stream",
     "text": [
      "Accuracy: 0.7429718875502008\n",
      "True Positive Rate: 0.5445026178010471\n",
      "False Positive Rate: 0.13355048859934854\n",
      "True Negative Rate: 0.8664495114006515\n",
      "False Negative Rate: 0.45549738219895286\n",
      "Precision: 0.7172413793103448\n",
      "Recall: 0.5445026178010471\n",
      "F1 Score: 0.6190476190476191\n",
      "Support (0): 191\n",
      "Support (1): 307\n"
     ]
    }
   ],
   "source": [
    "def print_cm_metrics(cm):\n",
    "    # extract tp, tn, fp, fn from the confusion matrix to use in calculations\n",
    "    tn, fp, fn, tp = cm.ravel()\n",
    "\n",
    "    accuracy = (tp + tn)/(tn + fp + fn + tp)\n",
    "    print(f\"Accuracy: {accuracy}\")\n",
    "\n",
    "    true_positive_rate = tp/(tp + fn)\n",
    "    print(f\"True Positive Rate: {true_positive_rate}\")\n",
    "\n",
    "    false_positive_rate = fp/(fp + tn)\n",
    "    print(f\"False Positive Rate: {false_positive_rate}\")\n",
    "\n",
    "    true_negative_rate = tn/(tn + fp)\n",
    "    print(f\"True Negative Rate: {true_negative_rate}\")\n",
    "\n",
    "    false_negative_rate = fn/(fn + tp)\n",
    "    print(f\"False Negative Rate: {false_negative_rate}\")\n",
    "\n",
    "    precision = tp/(tp + fp)\n",
    "    print(f\"Precision: {precision}\")\n",
    "\n",
    "    recall = tp/(tp + fn)\n",
    "    print(f\"Recall: {recall}\")\n",
    "\n",
    "    f1_score = 2*(precision*recall)/(precision+recall)\n",
    "    print(f\"F1 Score: {f1_score}\")\n",
    "\n",
    "    support_pos = tp + fn\n",
    "    print(f\"Support (0): {support_pos}\")\n",
    "\n",
    "    support_neg = fp + tn\n",
    "    print(f\"Support (1): {support_neg}\")\n",
    "    \n",
    "print_cm_metrics(cm)"
   ]
  },
  {
   "cell_type": "markdown",
   "id": "00e51461-b158-4351-b193-4012d5d35777",
   "metadata": {},
   "source": [
    "#### 4. Run through steps 1-3 setting k to 10"
   ]
  },
  {
   "cell_type": "code",
   "execution_count": 14,
   "id": "a1d88ade-cc31-4660-a178-22968b6daddf",
   "metadata": {},
   "outputs": [],
   "source": [
    "def knn_fit_predict(k, X_train, y_train, X_validate):\n",
    "    # create the object\n",
    "    knn = KNeighborsClassifier(n_neighbors=k)\n",
    "\n",
    "    # create the model\n",
    "    knn.fit(X_train, y_train)\n",
    "\n",
    "    # run the model\n",
    "    y_train_pred = knn.predict(X_train)\n",
    "    y_validate_pred = knn.predict(X_validate)\n",
    "    \n",
    "    return knn, y_train_pred, y_validate_pred\n",
    "\n",
    "def evaluate_clf(model, X, y, y_pred):\n",
    "    # model score\n",
    "    accuracy = model.score(X, y)\n",
    "    print(f'Accuracy: {accuracy}')\n",
    "\n",
    "    # confusion matrix\n",
    "    cm = confusion_matrix(y, y_pred)\n",
    "    print('Confusion Matrix')\n",
    "    print(pd.DataFrame(cm, index=['Actual 0', 'Actual 1'], \n",
    "                       columns=['Pred 0', 'Pred 1']))\n",
    "\n",
    "    # classification report\n",
    "    print('Classification Report')\n",
    "    print(pd.DataFrame(classification_report(y, y_pred,\n",
    "                                             output_dict=True)))\n",
    "    # confusion matrix metrics\n",
    "    print_cm_metrics(cm)\n",
    "    \n",
    "    return accuracy"
   ]
  },
  {
   "cell_type": "code",
   "execution_count": 15,
   "id": "299cf9a3-4760-4890-a891-8bce6c5cb61d",
   "metadata": {
    "tags": []
   },
   "outputs": [
    {
     "name": "stdout",
     "output_type": "stream",
     "text": [
      "KNN where K = 10\n"
     ]
    }
   ],
   "source": [
    "k = 10\n",
    "print(f'KNN where K = {k}' )\n",
    "\n",
    "knn, y_train_pred, y_validate_pred = knn_fit_predict(k, X_train, y_train, X_validate)"
   ]
  },
  {
   "cell_type": "code",
   "execution_count": 16,
   "id": "0c5b24ad-535e-4125-98e4-d06583e2b449",
   "metadata": {
    "tags": []
   },
   "outputs": [
    {
     "data": {
      "text/plain": [
       "(array([0, 0, 0, 0, 1, 0, 0, 0, 0, 0, 0, 0, 0, 0, 0, 0, 0, 0, 0, 0, 1, 0,\n",
       "        1, 0, 0, 0, 0, 0, 0, 0, 0, 0, 0, 1, 0, 0, 0, 0, 0, 1, 0, 0, 0, 0,\n",
       "        0, 0, 0, 0, 0, 0, 0, 0, 1, 1, 0, 1, 0, 0, 0, 0, 1, 0, 0, 0, 0, 0,\n",
       "        0, 0, 0, 0, 1, 0, 0, 0, 0, 1, 0, 0, 0, 0, 0, 1, 0, 0, 0, 0, 1, 1,\n",
       "        1, 0, 0, 0, 0, 1, 0, 0, 0, 0, 0, 1, 0, 1, 0, 0, 0, 0, 0, 0, 0, 0,\n",
       "        0, 0, 0, 0, 0, 0, 0, 0, 1, 0, 0, 0, 0, 0, 1, 0, 0, 0, 0, 1, 0, 0,\n",
       "        0, 0, 0, 0, 0, 0, 0, 0, 0, 0, 1, 0, 1, 1, 1, 1, 1, 0, 0, 0, 0, 0,\n",
       "        0, 1, 0, 0, 0, 0, 0, 0, 0, 0, 0, 0, 1, 0, 0, 0, 0, 1, 0, 0, 0, 0,\n",
       "        0, 0, 0, 0, 0, 0, 0, 1, 0, 0, 0, 0, 0, 0, 0, 1, 0, 0, 0, 0, 0, 0,\n",
       "        0, 0, 1, 1, 0, 0, 0, 0, 0, 0, 0, 0, 0, 0, 0, 0, 1, 0, 0, 0, 1, 0,\n",
       "        0, 0, 0, 1, 0, 0, 1, 0, 0, 0, 0, 0, 0, 0, 0, 1, 0, 0, 0, 0, 0, 0,\n",
       "        0, 0, 0, 0, 1, 0, 0, 0, 0, 0, 0, 0, 0, 0, 0, 1, 1, 0, 0, 0, 0, 1,\n",
       "        0, 0, 0, 0, 0, 0, 0, 0, 0, 1, 0, 0, 0, 0, 0, 0, 0, 1, 0, 0, 0, 0,\n",
       "        0, 1, 0, 0, 0, 0, 0, 0, 0, 0, 0, 0, 0, 0, 0, 0, 0, 0, 0, 0, 1, 0,\n",
       "        0, 0, 0, 0, 0, 0, 0, 0, 0, 0, 0, 0, 0, 0, 0, 0, 0, 0, 1, 0, 1, 0,\n",
       "        0, 0, 0, 1, 0, 0, 0, 0, 0, 0, 0, 0, 0, 0, 0, 0, 0, 0, 0, 0, 1, 0,\n",
       "        0, 1, 0, 1, 1, 1, 0, 0, 0, 0, 0, 0, 0, 1, 1, 0, 1, 0, 0, 0, 0, 0,\n",
       "        0, 0, 1, 0, 1, 1, 0, 0, 0, 0, 0, 0, 0, 0, 1, 0, 0, 1, 0, 0, 1, 0,\n",
       "        1, 0, 0, 0, 0, 0, 0, 0, 0, 0, 0, 0, 0, 0, 1, 0, 0, 0, 1, 0, 1, 0,\n",
       "        0, 0, 0, 0, 0, 1, 0, 0, 0, 0, 0, 0, 1, 0, 0, 0, 1, 0, 0, 0, 1, 0,\n",
       "        0, 1, 0, 0, 0, 0, 0, 1, 0, 0, 1, 0, 0, 1, 0, 0, 0, 1, 0, 0, 1, 0,\n",
       "        0, 1, 0, 1, 1, 0, 0, 0, 0, 1, 0, 0, 0, 0, 0, 1, 0, 0, 0, 0, 1, 0,\n",
       "        0, 1, 0, 1, 0, 0, 0, 0, 0, 0, 0, 0, 0, 0]),\n",
       " array([0, 0, 0, 0, 0, 0, 0, 0, 0, 0, 0, 0, 1, 0, 0, 1, 0, 0, 0, 1, 0, 0,\n",
       "        0, 0, 0, 1, 0, 0, 0, 0, 1, 0, 0, 0, 0, 0, 1, 0, 1, 0, 0, 0, 0, 0,\n",
       "        0, 0, 0, 0, 0, 0, 0, 0, 1, 0, 0, 0, 1, 0, 0, 0, 0, 0, 1, 0, 0, 0,\n",
       "        0, 0, 0, 1, 0, 0, 0, 1, 0, 0, 0, 0, 0, 0, 0, 1, 0, 0, 0, 0, 0, 0,\n",
       "        0, 0, 1, 0, 0, 0, 0, 0, 0, 0, 0, 0, 0, 0, 0, 0, 0, 0, 0, 1, 0, 1,\n",
       "        0, 0, 1, 0, 0, 0, 0, 0, 0, 0, 0, 0, 0, 0, 0, 0, 0, 0, 0, 0, 1, 1,\n",
       "        0, 1, 0, 0, 0, 0, 0, 0, 1, 1, 1, 0, 0, 0, 0, 0, 1, 0, 0, 0, 0, 0,\n",
       "        0, 0, 0, 0, 0, 0, 0, 0, 1, 0, 0, 0, 0, 1, 0, 1, 0, 0, 0, 0, 0, 0,\n",
       "        0, 0, 0, 0, 1, 1, 0, 0, 1, 0, 0, 0, 0, 0, 0, 0, 0, 0, 0, 0, 0, 0,\n",
       "        0, 0, 0, 0, 0, 0, 0, 0, 0, 0, 1, 0, 1, 1, 0, 1]))"
      ]
     },
     "execution_count": 16,
     "metadata": {},
     "output_type": "execute_result"
    }
   ],
   "source": [
    "y_train_pred, y_validate_pred"
   ]
  },
  {
   "cell_type": "code",
   "execution_count": 17,
   "id": "38b7ad4e-f00f-401f-854c-a78d617148e2",
   "metadata": {
    "tags": []
   },
   "outputs": [
    {
     "name": "stdout",
     "output_type": "stream",
     "text": [
      "Train Evaluation\n",
      "\n",
      "Accuracy: 0.6967871485943775\n",
      "Confusion Matrix\n",
      "          Pred 0  Pred 1\n",
      "Actual 0     284      23\n",
      "Actual 1     128      63\n",
      "Classification Report\n",
      "                    0           1  accuracy   macro avg  weighted avg\n",
      "precision    0.689320    0.732558  0.696787    0.710939      0.705904\n",
      "recall       0.925081    0.329843  0.696787    0.627462      0.696787\n",
      "f1-score     0.789986    0.454874  0.696787    0.622430      0.661459\n",
      "support    307.000000  191.000000  0.696787  498.000000    498.000000\n",
      "Accuracy: 0.6967871485943775\n",
      "True Positive Rate: 0.3298429319371728\n",
      "False Positive Rate: 0.0749185667752443\n",
      "True Negative Rate: 0.9250814332247557\n",
      "False Negative Rate: 0.6701570680628273\n",
      "Precision: 0.7325581395348837\n",
      "Recall: 0.3298429319371728\n",
      "F1 Score: 0.4548736462093863\n",
      "Support (0): 191\n",
      "Support (1): 307\n",
      "\n",
      "Validate Evaluation\n",
      "\n",
      "Accuracy: 0.616822429906542\n",
      "Confusion Matrix\n",
      "          Pred 0  Pred 1\n",
      "Actual 0     115      17\n",
      "Actual 1      65      17\n",
      "Classification Report\n",
      "                    0          1  accuracy   macro avg  weighted avg\n",
      "precision    0.638889   0.500000  0.616822    0.569444      0.585670\n",
      "recall       0.871212   0.207317  0.616822    0.539265      0.616822\n",
      "f1-score     0.737179   0.293103  0.616822    0.515141      0.567020\n",
      "support    132.000000  82.000000  0.616822  214.000000    214.000000\n",
      "Accuracy: 0.616822429906542\n",
      "True Positive Rate: 0.2073170731707317\n",
      "False Positive Rate: 0.12878787878787878\n",
      "True Negative Rate: 0.8712121212121212\n",
      "False Negative Rate: 0.7926829268292683\n",
      "Precision: 0.5\n",
      "Recall: 0.2073170731707317\n",
      "F1 Score: 0.29310344827586204\n",
      "Support (0): 82\n",
      "Support (1): 132\n"
     ]
    }
   ],
   "source": [
    "print('Train Evaluation\\n')\n",
    "train_accuracy = evaluate_clf(knn, X_train, y_train, y_train_pred)\n",
    "print('\\nValidate Evaluation\\n')\n",
    "validate_accuracy = evaluate_clf(knn, X_validate, \n",
    "                                 y_validate, y_validate_pred)"
   ]
  },
  {
   "cell_type": "markdown",
   "id": "fda66f38-1ed1-46a8-96e4-638496df773e",
   "metadata": {},
   "source": [
    "#### 5. Run through steps 1-3 setting k to 20"
   ]
  },
  {
   "cell_type": "code",
   "execution_count": 18,
   "id": "b2c6d8c3-50c7-4648-bb8c-44a7a4b802f7",
   "metadata": {},
   "outputs": [
    {
     "name": "stdout",
     "output_type": "stream",
     "text": [
      "KNN where K = 20\n",
      "Train Evaluation\n",
      "\n",
      "Accuracy: 0.6666666666666666\n",
      "Confusion Matrix\n",
      "          Pred 0  Pred 1\n",
      "Actual 0     288      19\n",
      "Actual 1     147      44\n",
      "Classification Report\n",
      "                    0           1  accuracy   macro avg  weighted avg\n",
      "precision    0.662069    0.698413  0.666667    0.680241      0.676008\n",
      "recall       0.938111    0.230366  0.666667    0.584239      0.666667\n",
      "f1-score     0.776280    0.346457  0.666667    0.561369      0.611428\n",
      "support    307.000000  191.000000  0.666667  498.000000    498.000000\n",
      "Accuracy: 0.6666666666666666\n",
      "True Positive Rate: 0.23036649214659685\n",
      "False Positive Rate: 0.06188925081433225\n",
      "True Negative Rate: 0.9381107491856677\n",
      "False Negative Rate: 0.7696335078534031\n",
      "Precision: 0.6984126984126984\n",
      "Recall: 0.23036649214659685\n",
      "F1 Score: 0.3464566929133858\n",
      "Support (0): 191\n",
      "Support (1): 307\n",
      "\n",
      "Validate Evaluation\n",
      "\n",
      "Accuracy: 0.6495327102803738\n",
      "Confusion Matrix\n",
      "          Pred 0  Pred 1\n",
      "Actual 0     122      10\n",
      "Actual 1      65      17\n",
      "Classification Report\n",
      "                    0          1  accuracy   macro avg  weighted avg\n",
      "precision    0.652406   0.629630  0.649533    0.641018      0.643679\n",
      "recall       0.924242   0.207317  0.649533    0.565780      0.649533\n",
      "f1-score     0.764890   0.311927  0.649533    0.538408      0.591325\n",
      "support    132.000000  82.000000  0.649533  214.000000    214.000000\n",
      "Accuracy: 0.6495327102803738\n",
      "True Positive Rate: 0.2073170731707317\n",
      "False Positive Rate: 0.07575757575757576\n",
      "True Negative Rate: 0.9242424242424242\n",
      "False Negative Rate: 0.7926829268292683\n",
      "Precision: 0.6296296296296297\n",
      "Recall: 0.2073170731707317\n",
      "F1 Score: 0.3119266055045872\n",
      "Support (0): 82\n",
      "Support (1): 132\n"
     ]
    }
   ],
   "source": [
    "k = 20\n",
    "print(f'KNN where K = {k}' )\n",
    "\n",
    "knn, y_train_pred, y_validate_pred = knn_fit_predict(k, \n",
    "                                                     X_train, \n",
    "                                                     y_train, \n",
    "                                                     X_validate)\n",
    "\n",
    "print('Train Evaluation\\n')\n",
    "train_accuracy = evaluate_clf(knn, X_train, y_train, y_train_pred)\n",
    "print('\\nValidate Evaluation\\n')\n",
    "validate_accuracy = evaluate_clf(knn, X_validate, \n",
    "                                 y_validate, y_validate_pred)"
   ]
  },
  {
   "cell_type": "markdown",
   "id": "24392dbb-e4eb-4bf3-976b-7a4a18b91296",
   "metadata": {
    "tags": []
   },
   "source": [
    "#### 6. What are the differences in the evaluation metrics? Which performs better on your in-sample data? Why?"
   ]
  },
  {
   "cell_type": "code",
   "execution_count": 19,
   "id": "d46b42ae-5912-41ce-81b7-6443d49a1b04",
   "metadata": {},
   "outputs": [],
   "source": [
    "metrics = []\n",
    "\n",
    "for k in range(1,20):\n",
    "    knn, y_train_pred, y_val_pred = knn_fit_predict(k, X_train, \n",
    "                                                    y_train, \n",
    "                                                    X_validate)\n",
    "    train_acc = knn.score(X_train, y_train)\n",
    "    val_acc = knn.score(X_validate, y_validate)\n",
    "    \n",
    "    output = {\n",
    "            \"k\": k,\n",
    "            \"train_accuracy\": train_acc,\n",
    "            \"validate_accuracy\": val_acc\n",
    "    }\n",
    "\n",
    "    metrics.append(output)"
   ]
  },
  {
   "cell_type": "code",
   "execution_count": 20,
   "id": "2dfad9d7-91f5-4062-8c0d-3cdac6450d2c",
   "metadata": {
    "tags": []
   },
   "outputs": [
    {
     "data": {
      "text/html": [
       "<div>\n",
       "<style scoped>\n",
       "    .dataframe tbody tr th:only-of-type {\n",
       "        vertical-align: middle;\n",
       "    }\n",
       "\n",
       "    .dataframe tbody tr th {\n",
       "        vertical-align: top;\n",
       "    }\n",
       "\n",
       "    .dataframe thead th {\n",
       "        text-align: right;\n",
       "    }\n",
       "</style>\n",
       "<table border=\"1\" class=\"dataframe\">\n",
       "  <thead>\n",
       "    <tr style=\"text-align: right;\">\n",
       "      <th></th>\n",
       "      <th>k</th>\n",
       "      <th>train_accuracy</th>\n",
       "      <th>validate_accuracy</th>\n",
       "      <th>difference</th>\n",
       "    </tr>\n",
       "  </thead>\n",
       "  <tbody>\n",
       "    <tr>\n",
       "      <th>0</th>\n",
       "      <td>1</td>\n",
       "      <td>1.000000</td>\n",
       "      <td>0.551402</td>\n",
       "      <td>0.448598</td>\n",
       "    </tr>\n",
       "    <tr>\n",
       "      <th>1</th>\n",
       "      <td>2</td>\n",
       "      <td>0.777108</td>\n",
       "      <td>0.593458</td>\n",
       "      <td>0.183650</td>\n",
       "    </tr>\n",
       "    <tr>\n",
       "      <th>2</th>\n",
       "      <td>3</td>\n",
       "      <td>0.799197</td>\n",
       "      <td>0.588785</td>\n",
       "      <td>0.210412</td>\n",
       "    </tr>\n",
       "    <tr>\n",
       "      <th>3</th>\n",
       "      <td>4</td>\n",
       "      <td>0.755020</td>\n",
       "      <td>0.607477</td>\n",
       "      <td>0.147543</td>\n",
       "    </tr>\n",
       "    <tr>\n",
       "      <th>4</th>\n",
       "      <td>5</td>\n",
       "      <td>0.742972</td>\n",
       "      <td>0.612150</td>\n",
       "      <td>0.130822</td>\n",
       "    </tr>\n",
       "    <tr>\n",
       "      <th>5</th>\n",
       "      <td>6</td>\n",
       "      <td>0.722892</td>\n",
       "      <td>0.616822</td>\n",
       "      <td>0.106069</td>\n",
       "    </tr>\n",
       "    <tr>\n",
       "      <th>6</th>\n",
       "      <td>7</td>\n",
       "      <td>0.722892</td>\n",
       "      <td>0.616822</td>\n",
       "      <td>0.106069</td>\n",
       "    </tr>\n",
       "    <tr>\n",
       "      <th>7</th>\n",
       "      <td>8</td>\n",
       "      <td>0.704819</td>\n",
       "      <td>0.616822</td>\n",
       "      <td>0.087997</td>\n",
       "    </tr>\n",
       "    <tr>\n",
       "      <th>8</th>\n",
       "      <td>9</td>\n",
       "      <td>0.714859</td>\n",
       "      <td>0.598131</td>\n",
       "      <td>0.116729</td>\n",
       "    </tr>\n",
       "    <tr>\n",
       "      <th>9</th>\n",
       "      <td>10</td>\n",
       "      <td>0.696787</td>\n",
       "      <td>0.616822</td>\n",
       "      <td>0.079965</td>\n",
       "    </tr>\n",
       "    <tr>\n",
       "      <th>10</th>\n",
       "      <td>11</td>\n",
       "      <td>0.708835</td>\n",
       "      <td>0.607477</td>\n",
       "      <td>0.101359</td>\n",
       "    </tr>\n",
       "    <tr>\n",
       "      <th>11</th>\n",
       "      <td>12</td>\n",
       "      <td>0.700803</td>\n",
       "      <td>0.607477</td>\n",
       "      <td>0.093327</td>\n",
       "    </tr>\n",
       "    <tr>\n",
       "      <th>12</th>\n",
       "      <td>13</td>\n",
       "      <td>0.702811</td>\n",
       "      <td>0.621495</td>\n",
       "      <td>0.081316</td>\n",
       "    </tr>\n",
       "    <tr>\n",
       "      <th>13</th>\n",
       "      <td>14</td>\n",
       "      <td>0.690763</td>\n",
       "      <td>0.616822</td>\n",
       "      <td>0.073941</td>\n",
       "    </tr>\n",
       "    <tr>\n",
       "      <th>14</th>\n",
       "      <td>15</td>\n",
       "      <td>0.678715</td>\n",
       "      <td>0.640187</td>\n",
       "      <td>0.038528</td>\n",
       "    </tr>\n",
       "    <tr>\n",
       "      <th>15</th>\n",
       "      <td>16</td>\n",
       "      <td>0.678715</td>\n",
       "      <td>0.649533</td>\n",
       "      <td>0.029182</td>\n",
       "    </tr>\n",
       "    <tr>\n",
       "      <th>16</th>\n",
       "      <td>17</td>\n",
       "      <td>0.682731</td>\n",
       "      <td>0.658879</td>\n",
       "      <td>0.023852</td>\n",
       "    </tr>\n",
       "    <tr>\n",
       "      <th>17</th>\n",
       "      <td>18</td>\n",
       "      <td>0.680723</td>\n",
       "      <td>0.644860</td>\n",
       "      <td>0.035863</td>\n",
       "    </tr>\n",
       "    <tr>\n",
       "      <th>18</th>\n",
       "      <td>19</td>\n",
       "      <td>0.680723</td>\n",
       "      <td>0.640187</td>\n",
       "      <td>0.040536</td>\n",
       "    </tr>\n",
       "  </tbody>\n",
       "</table>\n",
       "</div>"
      ],
      "text/plain": [
       "     k  train_accuracy  validate_accuracy  difference\n",
       "0    1        1.000000           0.551402    0.448598\n",
       "1    2        0.777108           0.593458    0.183650\n",
       "2    3        0.799197           0.588785    0.210412\n",
       "3    4        0.755020           0.607477    0.147543\n",
       "4    5        0.742972           0.612150    0.130822\n",
       "5    6        0.722892           0.616822    0.106069\n",
       "6    7        0.722892           0.616822    0.106069\n",
       "7    8        0.704819           0.616822    0.087997\n",
       "8    9        0.714859           0.598131    0.116729\n",
       "9   10        0.696787           0.616822    0.079965\n",
       "10  11        0.708835           0.607477    0.101359\n",
       "11  12        0.700803           0.607477    0.093327\n",
       "12  13        0.702811           0.621495    0.081316\n",
       "13  14        0.690763           0.616822    0.073941\n",
       "14  15        0.678715           0.640187    0.038528\n",
       "15  16        0.678715           0.649533    0.029182\n",
       "16  17        0.682731           0.658879    0.023852\n",
       "17  18        0.680723           0.644860    0.035863\n",
       "18  19        0.680723           0.640187    0.040536"
      ]
     },
     "execution_count": 20,
     "metadata": {},
     "output_type": "execute_result"
    }
   ],
   "source": [
    "eval_df = pd.DataFrame(metrics)\n",
    "# add a difference column of diff between train and validate\n",
    "eval_df['difference'] = eval_df['train_accuracy'] - eval_df['validate_accuracy']\n",
    "\n",
    "eval_df"
   ]
  },
  {
   "cell_type": "code",
   "execution_count": 24,
   "id": "c2295fdd-7d91-4f8a-9489-6ed854c1410d",
   "metadata": {
    "tags": []
   },
   "outputs": [],
   "source": [
    "# the k1 model performs best on our sample data."
   ]
  },
  {
   "cell_type": "code",
   "execution_count": null,
   "id": "df5464fb-ce0b-44f6-8454-260f9209105d",
   "metadata": {},
   "outputs": [],
   "source": []
  },
  {
   "cell_type": "markdown",
   "id": "2373ac5e-2737-4474-9228-63533f4df133",
   "metadata": {
    "tags": []
   },
   "source": [
    "#### 7. Which model performs best on our out-of-sample data from validate?"
   ]
  },
  {
   "cell_type": "code",
   "execution_count": 21,
   "id": "ffa4f6a5-7bfb-4bd7-bffb-f18a2e2c4e59",
   "metadata": {},
   "outputs": [
    {
     "name": "stdout",
     "output_type": "stream",
     "text": [
      "KNN where K = 15\n",
      "Train Evaluation\n",
      "\n",
      "Accuracy: 0.678714859437751\n",
      "Confusion Matrix\n",
      "          Pred 0  Pred 1\n",
      "Actual 0     272      35\n",
      "Actual 1     125      66\n",
      "Classification Report\n",
      "                    0           1  accuracy   macro avg  weighted avg\n",
      "precision    0.685139    0.653465  0.678715    0.669302      0.672991\n",
      "recall       0.885993    0.345550  0.678715    0.615772      0.678715\n",
      "f1-score     0.772727    0.452055  0.678715    0.612391      0.649738\n",
      "support    307.000000  191.000000  0.678715  498.000000    498.000000\n",
      "Accuracy: 0.678714859437751\n",
      "True Positive Rate: 0.34554973821989526\n",
      "False Positive Rate: 0.11400651465798045\n",
      "True Negative Rate: 0.8859934853420195\n",
      "False Negative Rate: 0.6544502617801047\n",
      "Precision: 0.6534653465346535\n",
      "Recall: 0.34554973821989526\n",
      "F1 Score: 0.452054794520548\n",
      "Support (0): 191\n",
      "Support (1): 307\n",
      "\n",
      "Validate Evaluation\n",
      "\n",
      "Accuracy: 0.6401869158878505\n",
      "Confusion Matrix\n",
      "          Pred 0  Pred 1\n",
      "Actual 0     113      19\n",
      "Actual 1      58      24\n",
      "Classification Report\n",
      "                    0          1  accuracy   macro avg  weighted avg\n",
      "precision    0.660819   0.558140  0.640187    0.609479      0.621474\n",
      "recall       0.856061   0.292683  0.640187    0.574372      0.640187\n",
      "f1-score     0.745875   0.384000  0.640187    0.564937      0.607212\n",
      "support    132.000000  82.000000  0.640187  214.000000    214.000000\n",
      "Accuracy: 0.6401869158878505\n",
      "True Positive Rate: 0.2926829268292683\n",
      "False Positive Rate: 0.14393939393939395\n",
      "True Negative Rate: 0.8560606060606061\n",
      "False Negative Rate: 0.7073170731707317\n",
      "Precision: 0.5581395348837209\n",
      "Recall: 0.2926829268292683\n",
      "F1 Score: 0.38399999999999995\n",
      "Support (0): 82\n",
      "Support (1): 132\n"
     ]
    }
   ],
   "source": [
    "k = 15\n",
    "print(f'KNN where K = {k}' )\n",
    "\n",
    "knn, y_train_pred, y_validate_pred = knn_fit_predict(k, \n",
    "                                                     X_train, \n",
    "                                                     y_train, \n",
    "                                                     X_validate)\n",
    "\n",
    "print('Train Evaluation\\n')\n",
    "train_accuracy = evaluate_clf(knn, X_train, y_train, y_train_pred)\n",
    "\n",
    "print('\\nValidate Evaluation\\n')\n",
    "validate_accuracy = evaluate_clf(knn, X_validate, \n",
    "                                 y_validate, y_validate_pred)"
   ]
  },
  {
   "cell_type": "code",
   "execution_count": 22,
   "id": "1123eee2-d6ce-4a63-949f-effbe22f1e7c",
   "metadata": {
    "tags": []
   },
   "outputs": [
    {
     "data": {
      "image/png": "[encoded data removed]",
      "text/plain": [
       "<Figure size 1600x900 with 1 Axes>"
      ]
     },
     "metadata": {},
     "output_type": "display_data"
    }
   ],
   "source": [
    "# plot the data\n",
    "plt.figure(figsize=(16,9))\n",
    "# plot train accuracy against k\n",
    "plt.plot(eval_df.k, eval_df.train_accuracy, label='Train Accuracy')\n",
    "# plot validate accuracy against k\n",
    "plt.plot(eval_df.k, eval_df.validate_accuracy, label='Validate Accuracy')\n",
    "# plot the difference against k\n",
    "plt.plot(eval_df.k, eval_df.difference, label='Accuracy Difference')\n",
    "plt.ylabel('Accuracy')\n",
    "plt.legend()\n",
    "plt.xticks(np.arange(0,21,1))\n",
    "plt.grid()\n",
    "plt.show()#### "
   ]
  },
  {
   "cell_type": "code",
   "execution_count": 23,
   "id": "e15a753f-ac8b-4da8-96f0-c50c72d71b53",
   "metadata": {
    "tags": []
   },
   "outputs": [],
   "source": [
    "# k3 has the best validate accuracy. "
   ]
  },
  {
   "cell_type": "code",
   "execution_count": null,
   "id": "ba369a06-0ebe-4265-8e97-36e777ceb461",
   "metadata": {},
   "outputs": [],
   "source": []
  }
 ],
 "metadata": {
  "kernelspec": {
   "display_name": "Python 3 (ipykernel)",
   "language": "python",
   "name": "python3"
  },
  "language_info": {
   "codemirror_mode": {
    "name": "ipython",
    "version": 3
   },
   "file_extension": ".py",
   "mimetype": "text/x-python",
   "name": "python",
   "nbconvert_exporter": "python",
   "pygments_lexer": "ipython3",
   "version": "3.11.4"
  }
 },
 "nbformat": 4,
 "nbformat_minor": 5
}
