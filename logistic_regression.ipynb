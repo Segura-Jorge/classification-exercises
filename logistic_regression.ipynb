{
 "cells": [
  {
   "cell_type": "code",
   "execution_count": 8,
   "id": "a3b350f4-a138-4752-b3a0-4e61fc58a821",
   "metadata": {
    "tags": []
   },
   "outputs": [],
   "source": [
    "import numpy as np\n",
    "import pandas as pd\n",
    "from sklearn.linear_model import LogisticRegression\n",
    "import acquire, prepare\n",
    "import matplotlib.pyplot as plt\n",
    "from sklearn.metrics import classification_report, confusion_matrix\n",
    "import seaborn as sns\n",
    "\n",
    "import warnings\n",
    "warnings.filterwarnings(\"ignore\")"
   ]
  },
  {
   "cell_type": "code",
   "execution_count": 10,
   "id": "dc7703aa-3833-4732-a582-399079eeebd7",
   "metadata": {
    "tags": []
   },
   "outputs": [
    {
     "data": {
      "text/plain": [
       "((498, 10), (214, 10), (179, 10))"
      ]
     },
     "execution_count": 10,
     "metadata": {},
     "output_type": "execute_result"
    }
   ],
   "source": [
    "df = acquire.get_titanic_data()\n",
    "# prepare the data\n",
    "train, validate, test = prepare.prep_titanic_data(df)\n",
    "\n",
    "# drop object columns and create X_train of features only \n",
    "# and y_train of survived only. \n",
    "X_train = train.drop(columns=['survived'])\n",
    "y_train = train.survived\n",
    "\n",
    "X_validate = validate.drop(columns=['survived'])\n",
    "y_validate = validate.survived\n",
    "\n",
    "X_test = test.drop(columns=['survived'])\n",
    "y_test = test.survived\n",
    "\n",
    "# check the shape\n",
    "X_train.shape, X_validate.shape, X_test.shape\n"
   ]
  },
  {
   "cell_type": "code",
   "execution_count": 11,
   "id": "2983a561-f736-4462-9e2d-4c4fdf617203",
   "metadata": {
    "tags": []
   },
   "outputs": [],
   "source": [
    "def establish_baseline(y_train):\n",
    "    #  establish the value we will predict for all observations\n",
    "    baseline_prediction = y_train.mode()\n",
    "\n",
    "    # create a series of predictions with that value, \n",
    "    # the same length as our training set\n",
    "    y_train_pred = pd.Series([0]*len(y_train))\n",
    "\n",
    "    # compute accuracy of baseline\n",
    "    cm = confusion_matrix(y_train, y_train_pred)\n",
    "    tn, fp, fn, tp = cm.ravel()\n",
    "\n",
    "    accuracy = (tp+tn)/(tn+fp+fn+tp)\n",
    "    return accuracy"
   ]
  },
  {
   "cell_type": "code",
   "execution_count": 12,
   "id": "eb1775b7-176d-4f59-91c5-2c0826bd7d7a",
   "metadata": {
    "tags": []
   },
   "outputs": [],
   "source": [
    "baseline_accuracy = establish_baseline(y_train)"
   ]
  },
  {
   "cell_type": "markdown",
   "id": "d8dae9f4-725a-479d-bc72-dd5ad30c1d37",
   "metadata": {},
   "source": [
    "#### 1. Create a model that includes only age, fare, and pclass. Does this model perform better than your baseline?"
   ]
  },
  {
   "cell_type": "code",
   "execution_count": 13,
   "id": "81f488e2-08f1-46c8-b5a6-4046ef8b3b04",
   "metadata": {},
   "outputs": [
    {
     "name": "stdout",
     "output_type": "stream",
     "text": [
      "Train Accuracy: 0.6947791164658634\n",
      "Baseline Accuracy: 0.6164658634538153\n"
     ]
    }
   ],
   "source": [
    "logit1 = LogisticRegression(C=1, \n",
    "                           random_state=1349, \n",
    "                           intercept_scaling=1, \n",
    "                           solver='liblinear'\n",
    "                          )\n",
    "\n",
    "# fit model with age, pclass and fare as only features\n",
    "logit1.fit(X_train[['age', 'pclass', 'fare']], y_train)\n",
    "\n",
    "# compute accuracy\n",
    "train_accuracy = logit1.score(X_train[['age', 'pclass', 'fare']], \n",
    "                             y_train)\n",
    "\n",
    "# compare this model with baseline\n",
    "print(f'Train Accuracy: {train_accuracy}')\n",
    "print(f'Baseline Accuracy: {baseline_accuracy}')"
   ]
  },
  {
   "cell_type": "markdown",
   "id": "44c8bce5-d1f8-499f-a5ae-d9fec98843fb",
   "metadata": {},
   "source": [
    "#### 2. Include sex in your model as well. Note that you'll need to encode or create a dummy variable of this feature before including it in a model."
   ]
  },
  {
   "cell_type": "code",
   "execution_count": 14,
   "id": "52dee716-6b7b-4f8f-8ce0-cac809110b91",
   "metadata": {},
   "outputs": [
    {
     "name": "stdout",
     "output_type": "stream",
     "text": [
      "Train Accuracy: 0.7971887550200804\n",
      "Baseline Accuracy: 0.6164658634538153\n"
     ]
    }
   ],
   "source": [
    "logit2 = LogisticRegression(C=1,\n",
    "                           random_state=1349, \n",
    "                           intercept_scaling=1, \n",
    "                           solver='liblinear'\n",
    "                          )\n",
    "\n",
    "# fit model with age, pclass, fare and sex_male as only features\n",
    "logit2.fit(X_train[['age', 'pclass', 'fare', 'sex_male']], \n",
    "          y_train)\n",
    "\n",
    "# compute accuracy\n",
    "train_accuracy = logit2.score(X_train[['age', 'pclass', 'fare', 'sex_male']], \n",
    "                             y_train)\n",
    "\n",
    "# compare this model with baseline\n",
    "print(f'Train Accuracy: {train_accuracy}')\n",
    "print(f'Baseline Accuracy: {baseline_accuracy}')"
   ]
  },
  {
   "cell_type": "markdown",
   "id": "175b3caa-abec-45e1-a6f4-e25aa110d53e",
   "metadata": {},
   "source": [
    "#### 3. Try out other combinations of features and models."
   ]
  },
  {
   "cell_type": "code",
   "execution_count": 15,
   "id": "9b8e6553-811f-4f69-8488-b6e2dec8ef6f",
   "metadata": {},
   "outputs": [
    {
     "name": "stdout",
     "output_type": "stream",
     "text": [
      "Train Accuracy: 0.8072289156626506\n",
      "Baseline Accuracy: 0.6164658634538153\n"
     ]
    }
   ],
   "source": [
    "logit3 = LogisticRegression(C=1, \n",
    "                           random_state=1349, \n",
    "                           intercept_scaling=1, \n",
    "                           solver='liblinear'\n",
    "                          )\n",
    "\n",
    "# fit model with all features\n",
    "logit3.fit(X_train, y_train)\n",
    "\n",
    "# compute accuracy\n",
    "train_accuracy = logit3.score(X_train, y_train)\n",
    "\n",
    "# compare this model with baseline\n",
    "print(f'Train Accuracy: {train_accuracy}')\n",
    "print(f'Baseline Accuracy: {baseline_accuracy}')"
   ]
  },
  {
   "cell_type": "code",
   "execution_count": 16,
   "id": "c7944dba-39fb-4acb-8981-a9fceb1624ee",
   "metadata": {
    "tags": []
   },
   "outputs": [
    {
     "name": "stdout",
     "output_type": "stream",
     "text": [
      "Train Accuracy: 0.8012048192771084\n",
      "Baseline Accuracy: 0.6164658634538153\n"
     ]
    }
   ],
   "source": [
    "logit4 = LogisticRegression(C=1, \n",
    "                           random_state=1349, \n",
    "                           intercept_scaling=1, \n",
    "                           solver='lbfgs'\n",
    "                          )\n",
    "\n",
    "# fit model with all features\n",
    "logit4.fit(X_train, y_train)\n",
    "\n",
    "# compute accuracy\n",
    "train_acc4 = logit4.score(X_train, y_train)\n",
    "\n",
    "# compare this model with baseline\n",
    "print(f'Train Accuracy: {train_acc4}')\n",
    "print(f'Baseline Accuracy: {baseline_accuracy}')"
   ]
  },
  {
   "cell_type": "code",
   "execution_count": 17,
   "id": "4f7d5930-dabf-42da-9879-06b982a7437f",
   "metadata": {
    "tags": []
   },
   "outputs": [
    {
     "name": "stdout",
     "output_type": "stream",
     "text": [
      "Train Accuracy: 0.7931726907630522\n",
      "Baseline Accuracy: 0.6164658634538153\n"
     ]
    }
   ],
   "source": [
    "logit5 = LogisticRegression(C=1,\n",
    "                            class_weight='balanced',\n",
    "                            random_state=1349, \n",
    "                            intercept_scaling=1, \n",
    "                            solver='lbfgs'\n",
    "                           )\n",
    "\n",
    "# fit model with all features\n",
    "logit5.fit(X_train, y_train)\n",
    "\n",
    "# compute accuracy\n",
    "train_acc5 = logit5.score(X_train, y_train)\n",
    "\n",
    "# compare this model with baseline\n",
    "print(f'Train Accuracy: {train_acc5}')\n",
    "print(f'Baseline Accuracy: {baseline_accuracy}')"
   ]
  },
  {
   "cell_type": "code",
   "execution_count": 18,
   "id": "66d0179d-cda9-49d4-8fea-499efc4eeb98",
   "metadata": {
    "tags": []
   },
   "outputs": [
    {
     "name": "stdout",
     "output_type": "stream",
     "text": [
      "Train Accuracy: 0.8012048192771084\n",
      "Baseline Accuracy: 0.6164658634538153\n"
     ]
    }
   ],
   "source": [
    "logit6 = LogisticRegression(C=0.1,\n",
    "                            random_state=1349, \n",
    "                            intercept_scaling=1, \n",
    "                            solver='lbfgs'\n",
    "                           )\n",
    "\n",
    "# fit model with all features\n",
    "logit6.fit(X_train, y_train)\n",
    "\n",
    "# compute accuracy\n",
    "train_acc6 = logit6.score(X_train, y_train)\n",
    "\n",
    "# compare this model with baseline\n",
    "print(f'Train Accuracy: {train_acc6}')\n",
    "print(f'Baseline Accuracy: {baseline_accuracy}')"
   ]
  },
  {
   "cell_type": "markdown",
   "id": "8196f69c-7264-4e65-9473-39dc069e1797",
   "metadata": {},
   "source": [
    "- My 3 best models are currently: logit4, logit5, logit6"
   ]
  },
  {
   "cell_type": "markdown",
   "id": "93fca177-449c-401b-b989-07c878350b55",
   "metadata": {},
   "source": [
    "#### 4. Use you best 3 models to predict and evaluate on your validate sample."
   ]
  },
  {
   "cell_type": "code",
   "execution_count": 19,
   "id": "6ba24d4d-57d0-401b-a2b7-98c86c70db18",
   "metadata": {},
   "outputs": [
    {
     "data": {
      "text/html": [
       "<div>\n",
       "<style scoped>\n",
       "    .dataframe tbody tr th:only-of-type {\n",
       "        vertical-align: middle;\n",
       "    }\n",
       "\n",
       "    .dataframe tbody tr th {\n",
       "        vertical-align: top;\n",
       "    }\n",
       "\n",
       "    .dataframe thead th {\n",
       "        text-align: right;\n",
       "    }\n",
       "</style>\n",
       "<table border=\"1\" class=\"dataframe\">\n",
       "  <thead>\n",
       "    <tr style=\"text-align: right;\">\n",
       "      <th></th>\n",
       "      <th>model</th>\n",
       "      <th>in-sample accuracy</th>\n",
       "      <th>out-of-sample accuracy</th>\n",
       "    </tr>\n",
       "  </thead>\n",
       "  <tbody>\n",
       "    <tr>\n",
       "      <th>0</th>\n",
       "      <td>4</td>\n",
       "      <td>0.801205</td>\n",
       "      <td>0.771028</td>\n",
       "    </tr>\n",
       "    <tr>\n",
       "      <th>1</th>\n",
       "      <td>5</td>\n",
       "      <td>0.793173</td>\n",
       "      <td>0.766355</td>\n",
       "    </tr>\n",
       "    <tr>\n",
       "      <th>2</th>\n",
       "      <td>6</td>\n",
       "      <td>0.801205</td>\n",
       "      <td>0.761682</td>\n",
       "    </tr>\n",
       "  </tbody>\n",
       "</table>\n",
       "</div>"
      ],
      "text/plain": [
       "   model  in-sample accuracy  out-of-sample accuracy\n",
       "0      4            0.801205                0.771028\n",
       "1      5            0.793173                0.766355\n",
       "2      6            0.801205                0.761682"
      ]
     },
     "execution_count": 19,
     "metadata": {},
     "output_type": "execute_result"
    }
   ],
   "source": [
    "# use logit4 to make predictions for the X_validate observations\n",
    "y_val_pred4 = logit4.predict(X_validate)\n",
    "# compute accuracy\n",
    "val_acc4 = logit4.score(X_validate, y_validate)\n",
    "\n",
    "model4 = [4, train_acc4, val_acc4]\n",
    "\n",
    "\n",
    "y_val_pred5 = logit5.predict(X_validate)\n",
    "# compute accuracy\n",
    "val_acc5 = logit5.score(X_validate, y_validate)\n",
    "\n",
    "model5 = [5, train_acc5, val_acc5]\n",
    "\n",
    "\n",
    "y_val_pred6 = logit6.predict(X_validate)\n",
    "# compute accuracy\n",
    "val_acc6 = logit6.score(X_validate, y_validate)\n",
    "\n",
    "model6 = [6, train_acc6, val_acc6]\n",
    "\n",
    "pd.DataFrame([model4, model5, model6], columns=['model', 'in-sample accuracy','out-of-sample accuracy'])"
   ]
  },
  {
   "cell_type": "markdown",
   "id": "09fb1773-4596-4e39-a3bc-d47136eeaf65",
   "metadata": {},
   "source": [
    "#### 5. Choose you best model from the validation performation, and evaluate it on the test dataset. How do the performance metrics compare to validate? to train?"
   ]
  },
  {
   "cell_type": "code",
   "execution_count": 20,
   "id": "1921bbcd-e5fd-400d-b9a3-525ac3f48a6d",
   "metadata": {},
   "outputs": [
    {
     "data": {
      "text/plain": [
       "0.7988826815642458"
      ]
     },
     "execution_count": 20,
     "metadata": {},
     "output_type": "execute_result"
    }
   ],
   "source": [
    "y_test_pred = logit6.predict(X_test)\n",
    "# compute accuracy\n",
    "test_acc = logit6.score(X_test, y_test)\n",
    "\n",
    "test_acc"
   ]
  },
  {
   "cell_type": "code",
   "execution_count": 21,
   "id": "bf707965-7806-4a9b-8eea-82f3796b0a13",
   "metadata": {
    "tags": []
   },
   "outputs": [
    {
     "name": "stdout",
     "output_type": "stream",
     "text": [
      "Coefficient: \n",
      " [[ 8.90704986e-04 -3.42992930e-01 -3.53011710e-03 -1.47843977e-01\n",
      "  -1.15474424e-01  7.80467054e-03 -1.70803002e-01 -1.79387952e+00\n",
      "   2.41939253e-01  1.14820917e-01]]\n",
      "Intercept: \n",
      " [0.90719965]\n"
     ]
    }
   ],
   "source": [
    "print('Coefficient: \\n', logit6.coef_)\n",
    "print('Intercept: \\n', logit6.intercept_)"
   ]
  },
  {
   "cell_type": "code",
   "execution_count": 22,
   "id": "5226fe8e-3804-4662-9c88-c9f5a4234f74",
   "metadata": {
    "tags": []
   },
   "outputs": [
    {
     "data": {
      "image/png": "[encoded data removed]",
      "text/plain": [
       "<Figure size 640x480 with 1 Axes>"
      ]
     },
     "metadata": {},
     "output_type": "display_data"
    }
   ],
   "source": [
    "y_pred_proba = logit6.predict_proba(X_test)\n",
    "# select the 2nd item in the array to get prob of survival (1)\n",
    "y_pred_proba = np.array([i[1] for i in y_pred_proba])\n",
    "\n",
    "test_results = pd.DataFrame({'probability': y_pred_proba, \n",
    "                             'prediction': y_test_pred,\n",
    "                             'actual': y_test})\n",
    "\n",
    "sns.scatterplot(x='probability', y='prediction', \n",
    "                data=test_results, \n",
    "                hue='actual'\n",
    "               )\n",
    "plt.show()"
   ]
  },
  {
   "cell_type": "markdown",
   "id": "9100beae-5312-42b8-975f-a4be1b3409f8",
   "metadata": {},
   "source": [
    "- Accuracy is a little higher on test than on validate, and it is lower on test than train."
   ]
  },
  {
   "cell_type": "markdown",
   "id": "bd30fb58-fba4-4505-a5a8-79b6ad40b2b3",
   "metadata": {},
   "source": [
    "#### **Bonus1** How do different strategies for handling the missing values in the age column affect model performance?"
   ]
  },
  {
   "cell_type": "code",
   "execution_count": null,
   "id": "06134bd7-4841-46b8-a1fa-f205eefd6ba1",
   "metadata": {},
   "outputs": [],
   "source": []
  },
  {
   "cell_type": "markdown",
   "id": "4bc86e85-ffdc-42cc-b32a-cf9d9d2c93d7",
   "metadata": {},
   "source": [
    "#### **Bonus2** How do different strategies for encoding sex affect model performance?"
   ]
  },
  {
   "cell_type": "code",
   "execution_count": null,
   "id": "94478af4-9008-4db6-9dae-90bd606b1461",
   "metadata": {},
   "outputs": [],
   "source": []
  },
  {
   "cell_type": "markdown",
   "id": "10cc9e57-5fda-49d4-8809-323d0135a762",
   "metadata": {},
   "source": [
    "#### **Bonus3** scikit-learn's LogisticRegression classifier is actually applying a regularization penalty to the coefficients by default. This penalty causes the magnitude of the coefficients in the resulting model to be smaller than they otherwise would be. This value can be modified with the C hyper parameter. Small values of C correspond to a larger penalty, and large values of C correspond to a smaller penalty.\n",
    "Try out the following values for C and note how the coefficients and the model's performance on both the dataset it was trained on and on the validate split are affected.\n",
    "C\n",
    "=\n",
    ".01\n",
    ",\n",
    ".1\n",
    ",\n",
    "1\n",
    ",\n",
    "10\n",
    ",\n",
    "100\n",
    ",\n",
    "1000"
   ]
  },
  {
   "cell_type": "code",
   "execution_count": null,
   "id": "bff0eb6f-7313-49ed-ac76-78189747b845",
   "metadata": {},
   "outputs": [],
   "source": []
  },
  {
   "cell_type": "markdown",
   "id": "4442767d-bb48-4510-9d23-01c34ff12790",
   "metadata": {},
   "source": [
    "#### **Bonus Bonus** how does scaling the data interact with your choice of C?"
   ]
  },
  {
   "cell_type": "code",
   "execution_count": null,
   "id": "063eeaa6-b0ef-4200-8925-7cc25edbc8e9",
   "metadata": {},
   "outputs": [],
   "source": []
  }
 ],
 "metadata": {
  "kernelspec": {
   "display_name": "Python 3 (ipykernel)",
   "language": "python",
   "name": "python3"
  },
  "language_info": {
   "codemirror_mode": {
    "name": "ipython",
    "version": 3
   },
   "file_extension": ".py",
   "mimetype": "text/x-python",
   "name": "python",
   "nbconvert_exporter": "python",
   "pygments_lexer": "ipython3",
   "version": "3.11.4"
  }
 },
 "nbformat": 4,
 "nbformat_minor": 5
}
