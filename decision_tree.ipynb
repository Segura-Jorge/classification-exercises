{
 "cells": [
  {
   "cell_type": "markdown",
   "id": "3810fbde-236e-49ca-9fe4-7ad61ff28fd6",
   "metadata": {},
   "source": [
    "#### 1. What is your baseline prediction? What is your baseline accuracy? *remember: your baseline prediction for a classification problem is predicting the most prevelant class in the training dataset (the mode). When you make those predictions, what is your accuracy? This is your baseline accuracy.*"
   ]
  },
  {
   "cell_type": "code",
   "execution_count": null,
   "id": "0158615f-4155-436d-80fe-7a2c44a058be",
   "metadata": {},
   "outputs": [],
   "source": []
  },
  {
   "cell_type": "markdown",
   "id": "1f5dda29-cbf4-4388-97f3-25272b7f7f52",
   "metadata": {},
   "source": [
    "#### 2. Fit the decision tree classifier to your training sample and transform (i.e. make predictions on the training sample)"
   ]
  },
  {
   "cell_type": "code",
   "execution_count": null,
   "id": "fe2839ba-5737-4b1a-b974-105b4b2c037e",
   "metadata": {},
   "outputs": [],
   "source": []
  },
  {
   "cell_type": "markdown",
   "id": "7b2a83e0-5475-4605-99c0-b3f16b247370",
   "metadata": {},
   "source": [
    "#### 3. Evaluate your in-sample results using the model score, confusion matrix, and classification report."
   ]
  },
  {
   "cell_type": "code",
   "execution_count": null,
   "id": "d6f937fa-9f19-4cf4-a93e-c702a28c1e90",
   "metadata": {},
   "outputs": [],
   "source": []
  },
  {
   "cell_type": "markdown",
   "id": "51437f3b-871a-4176-a553-fa693688bc4c",
   "metadata": {},
   "source": [
    "#### 4. Compute: Accuracy, true positive rate, false positive rate, true negative rate, false negative rate, precision, recall, f1-score, and support."
   ]
  },
  {
   "cell_type": "code",
   "execution_count": null,
   "id": "af41a27e-1ea6-4687-a1f1-e4e13a3c09db",
   "metadata": {},
   "outputs": [],
   "source": []
  },
  {
   "cell_type": "markdown",
   "id": "9bb89180-eef2-415e-9c18-837756196ac9",
   "metadata": {},
   "source": [
    "#### 5. Run through steps 2-4 using a different `max_depth` value."
   ]
  },
  {
   "cell_type": "code",
   "execution_count": null,
   "id": "f6e19ce4-01ce-40ae-9786-14879afdb04e",
   "metadata": {},
   "outputs": [],
   "source": []
  },
  {
   "cell_type": "markdown",
   "id": "b4082a92-01c9-4867-b99a-866562d48c0e",
   "metadata": {},
   "source": [
    "#### 6. Which model performs better on your in-sample data?"
   ]
  },
  {
   "cell_type": "code",
   "execution_count": null,
   "id": "5b6c16a9-b823-4367-9bfb-38a28ccae8e9",
   "metadata": {},
   "outputs": [],
   "source": []
  },
  {
   "cell_type": "markdown",
   "id": "3afa9e1e-6583-41f5-ad84-bbc70251ef78",
   "metadata": {},
   "source": [
    "#### 7. Which model performs best on your out-of-sample data, the `validate` set?"
   ]
  },
  {
   "cell_type": "code",
   "execution_count": null,
   "id": "1412d431-514b-40e8-85b9-4dfa37fb7de5",
   "metadata": {},
   "outputs": [],
   "source": []
  },
  {
   "cell_type": "markdown",
   "id": "f6d7d9e9-8ea4-4eb0-8b25-d690129498e9",
   "metadata": {},
   "source": []
  },
  {
   "cell_type": "markdown",
   "id": "f44a726c-b687-4829-89c4-3b56788fe4d4",
   "metadata": {},
   "source": [
    "#### 1. Work through these same exercises using the `Telco` dataset."
   ]
  },
  {
   "cell_type": "code",
   "execution_count": null,
   "id": "df03ffc5-4a97-42c4-8860-da59695b1f4e",
   "metadata": {},
   "outputs": [],
   "source": []
  },
  {
   "cell_type": "markdown",
   "id": "cfde2e47-247f-4c1e-a7a3-5fa71caa10db",
   "metadata": {},
   "source": [
    "#### 2. Experiment with this model on other datasets with a higher number of output classes."
   ]
  },
  {
   "cell_type": "code",
   "execution_count": null,
   "id": "7e544049-8b36-452f-b707-5f9180d6ead8",
   "metadata": {},
   "outputs": [],
   "source": []
  }
 ],
 "metadata": {
  "kernelspec": {
   "display_name": "Python 3 (ipykernel)",
   "language": "python",
   "name": "python3"
  },
  "language_info": {
   "codemirror_mode": {
    "name": "ipython",
    "version": 3
   },
   "file_extension": ".py",
   "mimetype": "text/x-python",
   "name": "python",
   "nbconvert_exporter": "python",
   "pygments_lexer": "ipython3",
   "version": "3.11.4"
  }
 },
 "nbformat": 4,
 "nbformat_minor": 5
}
